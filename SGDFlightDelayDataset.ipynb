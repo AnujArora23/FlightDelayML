{
  "nbformat": 4,
  "nbformat_minor": 0,
  "metadata": {
    "colab": {
      "name": "SGDFlightDelayDataset.ipynb",
      "version": "0.3.2",
      "provenance": [],
      "collapsed_sections": [
        "CcwKivrzAFWK",
        "hO68PK14Fney",
        "362Oj1GvAQEf",
        "HZvjNRHcBB-f",
        "0j0RXaHHEQ6G",
        "8iyYURF5E3UP",
        "ZPvh54TdFHjn",
        "1CvwhfcEGKwo",
        "myLnfRztGa7u",
        "-20rzFJZ7USa",
        "ioEflffVMEIN",
        "6MovAckUgE7B",
        "OrCBefNgJN6n",
        "X_vJC4iDHlPG",
        "G72i8cq5DE1W",
        "xuzvwjahOQOc",
        "iKAPnviGKE24",
        "SQQmg_vPNBu-",
        "x3OqPvSxOY9W",
        "HY2-ntljMUAX"
      ],
      "include_colab_link": true
    }
  },
  "cells": [
    {
      "cell_type": "markdown",
      "metadata": {
        "id": "view-in-github",
        "colab_type": "text"
      },
      "source": [
        "[View in Colaboratory](https://colab.research.google.com/github/AnujArora23/FlightDelayML/blob/master/SGDFlightDelayDataset.ipynb)"
      ]
    },
    {
      "metadata": {
        "id": "7kmOsbOk8Oml",
        "colab_type": "text"
      },
      "cell_type": "markdown",
      "source": [
        "# Flight Delay Prediction (Regression)\n",
        "\n",
        "These datasets are taken from Microsoft Azure Machine Learning Studio's sample datasets. It contains flight delay data for various airlines for the year 2013. There are two files uploaded as a compressed archive on my GitHub page:\n",
        "\n",
        "1) **Flight_Delays_Data.csv** : This contains arrival and departure details for various flights operated by 16 different airlines. The schema is pretty self explanatory but I will mention the important and slightly obscure columns:\n",
        "\n",
        "*OriginAirportID/DestAirportID* : The unique 5 digit integer identifier for a particular airport.\n",
        "\n",
        "*CRSDepTime/CRSArrTime* : Time in 24 hour format (e.g. 837 is 08:37AM)\n",
        "\n",
        "*ArrDel15/DepDel15* : Binary columns where *1* means that the flight was delayed beyond 15 minutes and *0* means it was not.\n",
        "\n",
        "*ArrDelay/DepDelay* : Time (in minutes) by which flight was delayed.\n",
        "\n",
        "\n",
        "2) **Airport_Codes_Dataset.csv** : This file gives the city, state and name of the airport along with the unique 5 digit integer identifier.\n",
        "\n",
        "### Goals:\n",
        "\n",
        "\n",
        "**1.  Clean the data, and see which features may be important and which might be redundant.**\n",
        "\n",
        "**2. Do an exploratory analysis of the data to identify where most of the flight delays lie (e.g. which carrier, airport etc.).**\n",
        "\n",
        "**3.  Choose and build an appropriate regression model for this dataset to predict *ArrDelay* time in minutes.**\n",
        "\n",
        "**4. Choose and build alternative models and compare all models with various accuracy metrics.**\n",
        "\n"
      ]
    },
    {
      "metadata": {
        "id": "CcwKivrzAFWK",
        "colab_type": "text"
      },
      "cell_type": "markdown",
      "source": [
        "## Install and import necessary libraries"
      ]
    },
    {
      "metadata": {
        "id": "0y5RlAGbosPa",
        "colab_type": "code",
        "colab": {}
      },
      "cell_type": "code",
      "source": [
        "!pip install -U -q PyDrive #Only if you are loading your data from Google Drive"
      ],
      "execution_count": 0,
      "outputs": []
    },
    {
      "metadata": {
        "id": "_lXAbJkV-99X",
        "colab_type": "code",
        "colab": {
          "base_uri": "https://localhost:8080/",
          "height": 107
        },
        "outputId": "bf0313e6-9d92-4c42-ee97-4616e1552236"
      },
      "cell_type": "code",
      "source": [
        "from pydrive.auth import GoogleAuth\n",
        "from pydrive.drive import GoogleDrive\n",
        "from google.colab import auth\n",
        "from oauth2client.client import GoogleCredentials\n",
        "import pandas as pd\n",
        "import numpy as np\n",
        "import matplotlib.pyplot as plt\n",
        "import seaborn as sns\n",
        "from sklearn import preprocessing\n",
        "from sklearn.linear_model import SGDRegressor\n",
        "from sklearn.tree import DecisionTreeRegressor\n",
        "from sklearn.ensemble import AdaBoostRegressor\n",
        "from sklearn.model_selection import train_test_split\n",
        "from sklearn.metrics import mean_squared_error, r2_score\n",
        "from sklearn.model_selection import cross_val_score, cross_val_predict\n",
        "from sklearn.model_selection import KFold\n",
        "from sklearn.model_selection import GridSearchCV\n",
        "from sklearn import grid_search\n",
        "from sklearn import metrics"
      ],
      "execution_count": 2,
      "outputs": [
        {
          "output_type": "stream",
          "text": [
            "/usr/local/lib/python2.7/dist-packages/sklearn/cross_validation.py:41: DeprecationWarning: This module was deprecated in version 0.18 in favor of the model_selection module into which all the refactored classes and functions are moved. Also note that the interface of the new CV iterators are different from that of this module. This module will be removed in 0.20.\n",
            "  \"This module will be removed in 0.20.\", DeprecationWarning)\n",
            "/usr/local/lib/python2.7/dist-packages/sklearn/grid_search.py:42: DeprecationWarning: This module was deprecated in version 0.18 in favor of the model_selection module into which all the refactored classes and functions are moved. This module will be removed in 0.20.\n",
            "  DeprecationWarning)\n"
          ],
          "name": "stderr"
        }
      ]
    },
    {
      "metadata": {
        "id": "hO68PK14Fney",
        "colab_type": "text"
      },
      "cell_type": "markdown",
      "source": [
        "## Authorize Google Drive (if your data is stored in Drive)"
      ]
    },
    {
      "metadata": {
        "id": "de7fkRhk1Jlg",
        "colab_type": "code",
        "colab": {
          "base_uri": "https://localhost:8080/",
          "height": 124
        },
        "outputId": "52cb7f1d-2e55-4caa-9e75-27086438419b"
      },
      "cell_type": "code",
      "source": [
        "%%capture\n",
        "auth.authenticate_user()\n",
        "gauth = GoogleAuth()\n",
        "gauth.credentials = GoogleCredentials.get_application_default()\n",
        "drive = GoogleDrive(gauth)"
      ],
      "execution_count": 3,
      "outputs": [
        {
          "output_type": "stream",
          "text": [
            "Go to the following link in your browser:\n",
            "\n",
            "    https://accounts.google.com/o/oauth2/auth?redirect_uri=urn%3Aietf%3Awg%3Aoauth%3A2.0%3Aoob&prompt=select_account&response_type=code&client_id=32555940559.apps.googleusercontent.com&scope=https%3A%2F%2Fwww.googleapis.com%2Fauth%2Fuserinfo.email+https%3A%2F%2Fwww.googleapis.com%2Fauth%2Fcloud-platform+https%3A%2F%2Fwww.googleapis.com%2Fauth%2Fappengine.admin+https%3A%2F%2Fwww.googleapis.com%2Fauth%2Fcompute+https%3A%2F%2Fwww.googleapis.com%2Fauth%2Faccounts.reauth+https%3A%2F%2Fwww.googleapis.com%2Fauth%2Fdrive&access_type=offline\n",
            "\n",
            "Enter verification code: ··········\n"
          ],
          "name": "stdout"
        }
      ]
    },
    {
      "metadata": {
        "id": "362Oj1GvAQEf",
        "colab_type": "text"
      },
      "cell_type": "markdown",
      "source": [
        "## Data Ingestion\n",
        "\n",
        "I have saved the two files in my personal drive storage and read them from there into a pandas data frame. Please modify the following cells to read the CSV files into a Pandas dataframe as per your storage location."
      ]
    },
    {
      "metadata": {
        "id": "diegBkCC1aRu",
        "colab_type": "code",
        "colab": {}
      },
      "cell_type": "code",
      "source": [
        "%%capture\n",
        "downloaded = drive.CreateFile({'id':'1VxxZFZO7copAM_AHHF42zjO7rlGR1aPm'}) # replace the id with id of file you want to access\n",
        "downloaded.GetContentFile('Airport_Codes_Dataset.csv')  \n",
        "downloaded = drive.CreateFile({'id':'1owzv86uWVRace_8xvRShFrDTRXSljp3I'}) # replace the id with id of file you want to access\n",
        "downloaded.GetContentFile('Flight_Delays_Data.csv') \n",
        "airpcode = pd.read_csv('Airport_Codes_Dataset.csv') \n",
        "flightdel = pd.read_csv('Flight_Delays_Data.csv') "
      ],
      "execution_count": 0,
      "outputs": []
    },
    {
      "metadata": {
        "id": "HZvjNRHcBB-f",
        "colab_type": "text"
      },
      "cell_type": "markdown",
      "source": [
        "## Data Cleanup"
      ]
    },
    {
      "metadata": {
        "id": "0j0RXaHHEQ6G",
        "colab_type": "text"
      },
      "cell_type": "markdown",
      "source": [
        "### Remove NULL /NaN rows and drop redundant columns"
      ]
    },
    {
      "metadata": {
        "id": "qAPsxDiK5jcc",
        "colab_type": "code",
        "colab": {}
      },
      "cell_type": "code",
      "source": [
        "flightdel.dropna(inplace=True) #Drop NaNs. We will still have enough data\n",
        "flightdel.drop(['Year','Cancelled'],axis=1,inplace=True) #There is only 1 unique value for both (2013 and 0 respectively)\n",
        "flightdel.reset_index(drop=True,inplace=True)"
      ],
      "execution_count": 0,
      "outputs": []
    },
    {
      "metadata": {
        "id": "8iyYURF5E3UP",
        "colab_type": "text"
      },
      "cell_type": "markdown",
      "source": [
        "###Join the 2 CSV files to get airport code details for origin and destination"
      ]
    },
    {
      "metadata": {
        "id": "Uv6LnQBS53Xz",
        "colab_type": "code",
        "colab": {}
      },
      "cell_type": "code",
      "source": [
        "result=pd.merge(flightdel,airpcode,left_on='OriginAirportID',right_on='airport_id',how='left')\n",
        "result.drop(['airport_id'],axis=1,inplace=True)\n",
        "#result.reset_index(drop=True,inplace=True)\n",
        "result.rename(columns={'city':'cityor','state':'stateor','name':'nameor'},inplace=True)\n",
        "result=pd.merge(result,airpcode,left_on='DestAirportID',right_on='airport_id',how='left')\n",
        "result.drop(['airport_id'],axis=1,inplace=True)\n",
        "result.reset_index(drop=True,inplace=True)\n",
        "result.rename(columns={'city':'citydest','state':'statedest','name':'namedest'},inplace=True)\n",
        "flightdelfin=result"
      ],
      "execution_count": 0,
      "outputs": []
    },
    {
      "metadata": {
        "id": "ZPvh54TdFHjn",
        "colab_type": "text"
      },
      "cell_type": "markdown",
      "source": [
        "### Perform Feature Conversion (to categorical dtype)"
      ]
    },
    {
      "metadata": {
        "id": "eTXCLiZiAWwv",
        "colab_type": "code",
        "colab": {}
      },
      "cell_type": "code",
      "source": [
        "cols=['Carrier','DepDel15','ArrDel15','OriginAirportID','DestAirportID','cityor','stateor','nameor','citydest','statedest','namedest']\n",
        "flightdelfin[cols]=flightdelfin[cols].apply(lambda x: x.astype('category'))     "
      ],
      "execution_count": 0,
      "outputs": []
    },
    {
      "metadata": {
        "id": "1CvwhfcEGKwo",
        "colab_type": "text"
      },
      "cell_type": "markdown",
      "source": [
        "###Drop duplicate observations"
      ]
    },
    {
      "metadata": {
        "id": "lfLw2DV5CbGu",
        "colab_type": "code",
        "colab": {}
      },
      "cell_type": "code",
      "source": [
        "flightdelfin.drop_duplicates(keep='first',inplace=True)\n",
        "flightdelfin.reset_index(drop=True,inplace=True)"
      ],
      "execution_count": 0,
      "outputs": []
    },
    {
      "metadata": {
        "id": "myLnfRztGa7u",
        "colab_type": "text"
      },
      "cell_type": "markdown",
      "source": [
        "###Drop columns that are unnecessary for analysis"
      ]
    },
    {
      "metadata": {
        "id": "vdDkqnU77AjH",
        "colab_type": "text"
      },
      "cell_type": "markdown",
      "source": [
        "**In particular, we drop ArrDel15 and DepDel15 columns as they add no extra information from the ArrDel and DepDel columns respectively.**"
      ]
    },
    {
      "metadata": {
        "id": "d6HM-6J51zgU",
        "colab_type": "code",
        "colab": {
          "base_uri": "https://localhost:8080/",
          "height": 222
        },
        "outputId": "05cfe1d0-bba1-4602-b619-bb53c3d38936"
      },
      "cell_type": "code",
      "source": [
        "flightdelan=flightdelfin.iloc[:,0:11]\n",
        "flightdelan.drop('DepDel15',axis=1,inplace=True)\n",
        "flightdelan.head()"
      ],
      "execution_count": 9,
      "outputs": [
        {
          "output_type": "execute_result",
          "data": {
            "text/html": [
              "<div>\n",
              "<style scoped>\n",
              "    .dataframe tbody tr th:only-of-type {\n",
              "        vertical-align: middle;\n",
              "    }\n",
              "\n",
              "    .dataframe tbody tr th {\n",
              "        vertical-align: top;\n",
              "    }\n",
              "\n",
              "    .dataframe thead th {\n",
              "        text-align: right;\n",
              "    }\n",
              "</style>\n",
              "<table border=\"1\" class=\"dataframe\">\n",
              "  <thead>\n",
              "    <tr style=\"text-align: right;\">\n",
              "      <th></th>\n",
              "      <th>Month</th>\n",
              "      <th>DayofMonth</th>\n",
              "      <th>DayOfWeek</th>\n",
              "      <th>Carrier</th>\n",
              "      <th>OriginAirportID</th>\n",
              "      <th>DestAirportID</th>\n",
              "      <th>CRSDepTime</th>\n",
              "      <th>DepDelay</th>\n",
              "      <th>CRSArrTime</th>\n",
              "      <th>ArrDelay</th>\n",
              "    </tr>\n",
              "  </thead>\n",
              "  <tbody>\n",
              "    <tr>\n",
              "      <th>0</th>\n",
              "      <td>4</td>\n",
              "      <td>19</td>\n",
              "      <td>5</td>\n",
              "      <td>DL</td>\n",
              "      <td>11433</td>\n",
              "      <td>13303</td>\n",
              "      <td>837</td>\n",
              "      <td>-3.0</td>\n",
              "      <td>1138</td>\n",
              "      <td>1.0</td>\n",
              "    </tr>\n",
              "    <tr>\n",
              "      <th>1</th>\n",
              "      <td>4</td>\n",
              "      <td>19</td>\n",
              "      <td>5</td>\n",
              "      <td>DL</td>\n",
              "      <td>14869</td>\n",
              "      <td>12478</td>\n",
              "      <td>1705</td>\n",
              "      <td>0.0</td>\n",
              "      <td>2336</td>\n",
              "      <td>-8.0</td>\n",
              "    </tr>\n",
              "    <tr>\n",
              "      <th>2</th>\n",
              "      <td>4</td>\n",
              "      <td>19</td>\n",
              "      <td>5</td>\n",
              "      <td>DL</td>\n",
              "      <td>14057</td>\n",
              "      <td>14869</td>\n",
              "      <td>600</td>\n",
              "      <td>-4.0</td>\n",
              "      <td>851</td>\n",
              "      <td>-15.0</td>\n",
              "    </tr>\n",
              "    <tr>\n",
              "      <th>3</th>\n",
              "      <td>4</td>\n",
              "      <td>19</td>\n",
              "      <td>5</td>\n",
              "      <td>DL</td>\n",
              "      <td>15016</td>\n",
              "      <td>11433</td>\n",
              "      <td>1630</td>\n",
              "      <td>28.0</td>\n",
              "      <td>1903</td>\n",
              "      <td>24.0</td>\n",
              "    </tr>\n",
              "    <tr>\n",
              "      <th>4</th>\n",
              "      <td>4</td>\n",
              "      <td>19</td>\n",
              "      <td>5</td>\n",
              "      <td>DL</td>\n",
              "      <td>11193</td>\n",
              "      <td>12892</td>\n",
              "      <td>1615</td>\n",
              "      <td>-6.0</td>\n",
              "      <td>1805</td>\n",
              "      <td>-11.0</td>\n",
              "    </tr>\n",
              "  </tbody>\n",
              "</table>\n",
              "</div>"
            ],
            "text/plain": [
              "   Month  DayofMonth  DayOfWeek Carrier OriginAirportID DestAirportID  \\\n",
              "0      4          19          5      DL           11433         13303   \n",
              "1      4          19          5      DL           14869         12478   \n",
              "2      4          19          5      DL           14057         14869   \n",
              "3      4          19          5      DL           15016         11433   \n",
              "4      4          19          5      DL           11193         12892   \n",
              "\n",
              "   CRSDepTime  DepDelay  CRSArrTime  ArrDelay  \n",
              "0         837      -3.0        1138       1.0  \n",
              "1        1705       0.0        2336      -8.0  \n",
              "2         600      -4.0         851     -15.0  \n",
              "3        1630      28.0        1903      24.0  \n",
              "4        1615      -6.0        1805     -11.0  "
            ]
          },
          "metadata": {
            "tags": []
          },
          "execution_count": 9
        }
      ]
    },
    {
      "metadata": {
        "id": "-20rzFJZ7USa",
        "colab_type": "text"
      },
      "cell_type": "markdown",
      "source": [
        "###Final check before analysis"
      ]
    },
    {
      "metadata": {
        "id": "JXeyEqFOG9es",
        "colab_type": "text"
      },
      "cell_type": "markdown",
      "source": [
        "** We check if our data types are correct and do a general scan of the dataframe information. It looks good! Everything is as it should be.**"
      ]
    },
    {
      "metadata": {
        "id": "SHrj71Byk0wS",
        "colab_type": "code",
        "colab": {
          "base_uri": "https://localhost:8080/",
          "height": 297
        },
        "outputId": "e76e9b28-3c82-4a9a-c9a2-6f9587147075"
      },
      "cell_type": "code",
      "source": [
        "flightdelan.info()"
      ],
      "execution_count": 10,
      "outputs": [
        {
          "output_type": "stream",
          "text": [
            "<class 'pandas.core.frame.DataFrame'>\n",
            "RangeIndex: 2690385 entries, 0 to 2690384\n",
            "Data columns (total 10 columns):\n",
            "Month              int64\n",
            "DayofMonth         int64\n",
            "DayOfWeek          int64\n",
            "Carrier            category\n",
            "OriginAirportID    category\n",
            "DestAirportID      category\n",
            "CRSDepTime         int64\n",
            "DepDelay           float64\n",
            "CRSArrTime         int64\n",
            "ArrDelay           float64\n",
            "dtypes: category(3), float64(2), int64(5)\n",
            "memory usage: 151.4 MB\n"
          ],
          "name": "stdout"
        }
      ]
    },
    {
      "metadata": {
        "id": "64wLyS_wwEwt",
        "colab_type": "code",
        "colab": {}
      },
      "cell_type": "code",
      "source": [
        "#flightdelan[['Month','DayofMonth','DayOfWeek']]=flightdelan[['Month','DayofMonth','DayOfWeek']].apply(lambda x: x.astype(np.int64))"
      ],
      "execution_count": 0,
      "outputs": []
    },
    {
      "metadata": {
        "id": "DKBIh9kqHxIX",
        "colab_type": "text"
      },
      "cell_type": "markdown",
      "source": [
        "## Data Exploration"
      ]
    },
    {
      "metadata": {
        "id": "ioEflffVMEIN",
        "colab_type": "text"
      },
      "cell_type": "markdown",
      "source": [
        "### Number of flights per carrier in 2013"
      ]
    },
    {
      "metadata": {
        "id": "yw0EMVIUK5S4",
        "colab_type": "code",
        "colab": {
          "base_uri": "https://localhost:8080/",
          "height": 389
        },
        "outputId": "634d8c6d-6353-413a-c4f7-639e3eaeb09a"
      },
      "cell_type": "code",
      "source": [
        "#fig=plt.figure(figsize=(10, 8), dpi= 80, facecolor='w', edgecolor='k'); #Use this for a larger size image\n",
        "bp=flightdelan.Carrier.value_counts(sort=True, ascending=False).plot(kind='bar',title='Number of Flights per Carrier')\n",
        "plt.show()"
      ],
      "execution_count": 12,
      "outputs": [
        {
          "output_type": "display_data",
          "data": {
            "image/png": "[encoded data removed]",
            "text/plain": [
              "<matplotlib.figure.Figure at 0x7f782bf9a490>"
            ]
          },
          "metadata": {
            "tags": []
          }
        }
      ]
    },
    {
      "metadata": {
        "id": "7z1ASGsLf--S",
        "colab_type": "text"
      },
      "cell_type": "markdown",
      "source": [
        "**As we can see above the highest number of flights are operated by WN i.e. *Southwest Airlines*, followed by (not closely) DL i.e. *Delta Airlines*, whereas the third highest number of flights are by AA i.e. *American Airlines* which is almost similar to those of UA i.e. *United Airlines.***"
      ]
    },
    {
      "metadata": {
        "id": "6MovAckUgE7B",
        "colab_type": "text"
      },
      "cell_type": "markdown",
      "source": [
        "### Calculate the average arrival delay (minutes) for all the flights of each carrier"
      ]
    },
    {
      "metadata": {
        "id": "SRexbb3qIKaH",
        "colab_type": "code",
        "colab": {
          "base_uri": "https://localhost:8080/",
          "height": 559
        },
        "outputId": "9fcbd74d-8f12-48ad-a5c3-8bedf7117d76"
      },
      "cell_type": "code",
      "source": [
        "meanarrdel=flightdelan.groupby('Carrier',as_index=False)['ArrDelay'].mean().sort_values('ArrDelay',ascending=False)\n",
        "meanarrdel.reset_index(drop=True,inplace=True)\n",
        "meanarrdel.columns=['Carrier','MeanArrDelay']\n",
        "meanarrdel"
      ],
      "execution_count": 13,
      "outputs": [
        {
          "output_type": "execute_result",
          "data": {
            "text/html": [
              "<div>\n",
              "<style scoped>\n",
              "    .dataframe tbody tr th:only-of-type {\n",
              "        vertical-align: middle;\n",
              "    }\n",
              "\n",
              "    .dataframe tbody tr th {\n",
              "        vertical-align: top;\n",
              "    }\n",
              "\n",
              "    .dataframe thead th {\n",
              "        text-align: right;\n",
              "    }\n",
              "</style>\n",
              "<table border=\"1\" class=\"dataframe\">\n",
              "  <thead>\n",
              "    <tr style=\"text-align: right;\">\n",
              "      <th></th>\n",
              "      <th>Carrier</th>\n",
              "      <th>MeanArrDelay</th>\n",
              "    </tr>\n",
              "  </thead>\n",
              "  <tbody>\n",
              "    <tr>\n",
              "      <th>0</th>\n",
              "      <td>MQ</td>\n",
              "      <td>14.189485</td>\n",
              "    </tr>\n",
              "    <tr>\n",
              "      <th>1</th>\n",
              "      <td>F9</td>\n",
              "      <td>12.834484</td>\n",
              "    </tr>\n",
              "    <tr>\n",
              "      <th>2</th>\n",
              "      <td>EV</td>\n",
              "      <td>10.457492</td>\n",
              "    </tr>\n",
              "    <tr>\n",
              "      <th>3</th>\n",
              "      <td>B6</td>\n",
              "      <td>9.618305</td>\n",
              "    </tr>\n",
              "    <tr>\n",
              "      <th>4</th>\n",
              "      <td>VX</td>\n",
              "      <td>9.613899</td>\n",
              "    </tr>\n",
              "    <tr>\n",
              "      <th>5</th>\n",
              "      <td>YV</td>\n",
              "      <td>8.699438</td>\n",
              "    </tr>\n",
              "    <tr>\n",
              "      <th>6</th>\n",
              "      <td>WN</td>\n",
              "      <td>8.273722</td>\n",
              "    </tr>\n",
              "    <tr>\n",
              "      <th>7</th>\n",
              "      <td>FL</td>\n",
              "      <td>7.226208</td>\n",
              "    </tr>\n",
              "    <tr>\n",
              "      <th>8</th>\n",
              "      <td>AA</td>\n",
              "      <td>7.120170</td>\n",
              "    </tr>\n",
              "    <tr>\n",
              "      <th>9</th>\n",
              "      <td>OO</td>\n",
              "      <td>6.367287</td>\n",
              "    </tr>\n",
              "    <tr>\n",
              "      <th>10</th>\n",
              "      <td>UA</td>\n",
              "      <td>5.138061</td>\n",
              "    </tr>\n",
              "    <tr>\n",
              "      <th>11</th>\n",
              "      <td>9E</td>\n",
              "      <td>4.891030</td>\n",
              "    </tr>\n",
              "    <tr>\n",
              "      <th>12</th>\n",
              "      <td>US</td>\n",
              "      <td>3.871939</td>\n",
              "    </tr>\n",
              "    <tr>\n",
              "      <th>13</th>\n",
              "      <td>DL</td>\n",
              "      <td>2.699999</td>\n",
              "    </tr>\n",
              "    <tr>\n",
              "      <th>14</th>\n",
              "      <td>HA</td>\n",
              "      <td>1.224172</td>\n",
              "    </tr>\n",
              "    <tr>\n",
              "      <th>15</th>\n",
              "      <td>AS</td>\n",
              "      <td>-0.307184</td>\n",
              "    </tr>\n",
              "  </tbody>\n",
              "</table>\n",
              "</div>"
            ],
            "text/plain": [
              "   Carrier  MeanArrDelay\n",
              "0       MQ     14.189485\n",
              "1       F9     12.834484\n",
              "2       EV     10.457492\n",
              "3       B6      9.618305\n",
              "4       VX      9.613899\n",
              "5       YV      8.699438\n",
              "6       WN      8.273722\n",
              "7       FL      7.226208\n",
              "8       AA      7.120170\n",
              "9       OO      6.367287\n",
              "10      UA      5.138061\n",
              "11      9E      4.891030\n",
              "12      US      3.871939\n",
              "13      DL      2.699999\n",
              "14      HA      1.224172\n",
              "15      AS     -0.307184"
            ]
          },
          "metadata": {
            "tags": []
          },
          "execution_count": 13
        }
      ]
    },
    {
      "metadata": {
        "id": "OrCBefNgJN6n",
        "colab_type": "text"
      },
      "cell_type": "markdown",
      "source": [
        "###Scale and compare the number of flights and average arrival delay"
      ]
    },
    {
      "metadata": {
        "id": "e9sry_ZNI1FT",
        "colab_type": "code",
        "colab": {}
      },
      "cell_type": "code",
      "source": [
        "min_max_scaler = preprocessing.MinMaxScaler()\n",
        "meanarrdel[['MeanArrDelay']]=min_max_scaler.fit_transform(meanarrdel[['MeanArrDelay']])\n",
        "flightno=pd.DataFrame(flightdelan.Carrier.value_counts(sort=True, ascending=False))\n",
        "flightno.rename(columns={'Carrier':'NoofFlights'},inplace=True)"
      ],
      "execution_count": 0,
      "outputs": []
    },
    {
      "metadata": {
        "id": "x5Ja6rhPSqu-",
        "colab_type": "code",
        "colab": {
          "base_uri": "https://localhost:8080/",
          "height": 377
        },
        "outputId": "f075b1d5-bc98-4db2-fe61-9ef85032eb55"
      },
      "cell_type": "code",
      "source": [
        "mergedscat=pd.merge(left=meanarrdel,right=flightno,right_index=True,left_on='Carrier',how='left')\n",
        "mergedscat.columns=['Carrier','AverageArrDelay','Noofflights']\n",
        "mergedscat[['Noofflights']]=min_max_scaler.fit_transform(mergedscat[['Noofflights']])\n",
        "fig, ax = plt.subplots()\n",
        "#fig=plt.figure(figsize=(10, 8), dpi= 80, facecolor='w', edgecolor='k');\n",
        "scat=ax.scatter(mergedscat.AverageArrDelay, mergedscat.Noofflights)\n",
        "\n",
        "for i, txt in enumerate(mergedscat.Carrier):\n",
        "    ax.annotate(txt, (mergedscat.AverageArrDelay[i],mergedscat.Noofflights[i]))\n",
        "    \n",
        "plt.xlabel('Average Arrival Delay (scaled:0-1)')\n",
        "plt.ylabel('Number of Flights (scaled:0-1)')\n",
        "plt.title('Scatterplot of Number of Flights vs Average Delay (1: Highest of all ,0: Lowest of all)')\n",
        "plt.show()"
      ],
      "execution_count": 15,
      "outputs": [
        {
          "output_type": "display_data",
          "data": {
            "image/png": "[encoded data removed]",
            "text/plain": [
              "<matplotlib.figure.Figure at 0x7f782b90b1d0>"
            ]
          },
          "metadata": {
            "tags": []
          }
        }
      ]
    },
    {
      "metadata": {
        "id": "CCX-6OB6gh9B",
        "colab_type": "text"
      },
      "cell_type": "markdown",
      "source": [
        "**As we can see above, the carriers that have a large number of flights (WN,DL,AA) have fared well as they have relatively normal delays. However, even with a low number of flights F9 i.e. *Frontier Airlines* and MQ i.e. *Envoy Air* have the highest delays in the year. **\n",
        "\n",
        "**This points to some serious planning issues among these smaller airlines or maybe they are more easily affected by outliers, just because they have a lesser number of flights.**"
      ]
    },
    {
      "metadata": {
        "id": "X_vJC4iDHlPG",
        "colab_type": "text"
      },
      "cell_type": "markdown",
      "source": [
        "### Boxplots of arrival delays (mins) by carrier."
      ]
    },
    {
      "metadata": {
        "id": "SOmbn5FFKMoA",
        "colab_type": "text"
      },
      "cell_type": "markdown",
      "source": [
        "**Carriers are ordered by the number of flights, decreasing from left to right.**"
      ]
    },
    {
      "metadata": {
        "id": "GiestLXiizTV",
        "colab_type": "code",
        "colab": {
          "base_uri": "https://localhost:8080/",
          "height": 924
        },
        "outputId": "27869239-f57f-4063-a354-420bb55ec17c"
      },
      "cell_type": "code",
      "source": [
        "fig=plt.figure(figsize=(20, 18), dpi= 60, facecolor='w', edgecolor='k');\n",
        "box=sns.boxplot(x=\"Carrier\", y=\"ArrDelay\", data=flightdelan,order=flightno.index)\n",
        "plt.show()"
      ],
      "execution_count": 16,
      "outputs": [
        {
          "output_type": "stream",
          "text": [
            "/usr/local/lib/python2.7/dist-packages/seaborn/categorical.py:454: FutureWarning: remove_na is deprecated and is a private function. Do not use.\n",
            "  box_data = remove_na(group_data)\n"
          ],
          "name": "stderr"
        },
        {
          "output_type": "display_data",
          "data": {
            "image/png": "[encoded data removed]",
            "text/plain": [
              "<matplotlib.figure.Figure at 0x7f782984ed50>"
            ]
          },
          "metadata": {
            "tags": []
          }
        }
      ]
    },
    {
      "metadata": {
        "id": "uhrzAjfR4IXs",
        "colab_type": "text"
      },
      "cell_type": "markdown",
      "source": [
        "**As you can see above, the number of outliers are huge and some of them (AA and HA) have had flight delays beyond 1500 minutes (25 hours). That is insane!**\n",
        "\n",
        "**Also, B6 i.e. *Jetblue Airways* has the least range of outliers but their on time performance is, by no means, excellent. This would mean that they do not have inordinately long delays usually, but  have small delays frequently.**\n",
        "\n",
        "**For the scale of operations of MQ i.e. *Envoy Air*  and HA i.e. *Hawaiian Airlines*, they should not have such a wide range of outliers. Given that they have a significantly low number of flights relatively (HA has the least!), they should be able to manage their operations better.**\n",
        "\n"
      ]
    },
    {
      "metadata": {
        "id": "G72i8cq5DE1W",
        "colab_type": "text"
      },
      "cell_type": "markdown",
      "source": [
        "###Percentage of flights delayed beyond 2 hours by carrier (relative to total number of flights)"
      ]
    },
    {
      "metadata": {
        "id": "5ghykSwWSl6x",
        "colab_type": "code",
        "colab": {
          "base_uri": "https://localhost:8080/",
          "height": 559
        },
        "outputId": "8659bc2d-6948-43bd-e756-aff9fe56dce1"
      },
      "cell_type": "code",
      "source": [
        "del2hr=pd.DataFrame(flightdelan[flightdelan.ArrDelay>120].groupby('Carrier').count().sort_values('ArrDelay',ascending=False)['ArrDelay'])\n",
        "del2hr=del2hr.merge(flightno,left_index=True,right_index=True,how='inner')\n",
        "del2hr['Delayperc']=((del2hr.ArrDelay.values.astype(np.float)/del2hr.NoofFlights.values)*100)\n",
        "del2hr.rename(columns={'ArrDelay':'Count'})\n",
        "del2hr.sort_values('Delayperc',ascending=False)"
      ],
      "execution_count": 17,
      "outputs": [
        {
          "output_type": "execute_result",
          "data": {
            "text/html": [
              "<div>\n",
              "<style scoped>\n",
              "    .dataframe tbody tr th:only-of-type {\n",
              "        vertical-align: middle;\n",
              "    }\n",
              "\n",
              "    .dataframe tbody tr th {\n",
              "        vertical-align: top;\n",
              "    }\n",
              "\n",
              "    .dataframe thead th {\n",
              "        text-align: right;\n",
              "    }\n",
              "</style>\n",
              "<table border=\"1\" class=\"dataframe\">\n",
              "  <thead>\n",
              "    <tr style=\"text-align: right;\">\n",
              "      <th></th>\n",
              "      <th>ArrDelay</th>\n",
              "      <th>NoofFlights</th>\n",
              "      <th>Delayperc</th>\n",
              "    </tr>\n",
              "  </thead>\n",
              "  <tbody>\n",
              "    <tr>\n",
              "      <th>VX</th>\n",
              "      <td>1334</td>\n",
              "      <td>34794</td>\n",
              "      <td>3.833994</td>\n",
              "    </tr>\n",
              "    <tr>\n",
              "      <th>EV</th>\n",
              "      <td>5792</td>\n",
              "      <td>153808</td>\n",
              "      <td>3.765734</td>\n",
              "    </tr>\n",
              "    <tr>\n",
              "      <th>MQ</th>\n",
              "      <td>3930</td>\n",
              "      <td>109307</td>\n",
              "      <td>3.595378</td>\n",
              "    </tr>\n",
              "    <tr>\n",
              "      <th>B6</th>\n",
              "      <td>4070</td>\n",
              "      <td>121736</td>\n",
              "      <td>3.343300</td>\n",
              "    </tr>\n",
              "    <tr>\n",
              "      <th>YV</th>\n",
              "      <td>1449</td>\n",
              "      <td>51803</td>\n",
              "      <td>2.797135</td>\n",
              "    </tr>\n",
              "    <tr>\n",
              "      <th>9E</th>\n",
              "      <td>2112</td>\n",
              "      <td>77911</td>\n",
              "      <td>2.710785</td>\n",
              "    </tr>\n",
              "    <tr>\n",
              "      <th>UA</th>\n",
              "      <td>7528</td>\n",
              "      <td>285207</td>\n",
              "      <td>2.639486</td>\n",
              "    </tr>\n",
              "    <tr>\n",
              "      <th>F9</th>\n",
              "      <td>886</td>\n",
              "      <td>35761</td>\n",
              "      <td>2.477559</td>\n",
              "    </tr>\n",
              "    <tr>\n",
              "      <th>AA</th>\n",
              "      <td>6956</td>\n",
              "      <td>288118</td>\n",
              "      <td>2.414289</td>\n",
              "    </tr>\n",
              "    <tr>\n",
              "      <th>FL</th>\n",
              "      <td>1895</td>\n",
              "      <td>92393</td>\n",
              "      <td>2.051021</td>\n",
              "    </tr>\n",
              "    <tr>\n",
              "      <th>OO</th>\n",
              "      <td>3042</td>\n",
              "      <td>158424</td>\n",
              "      <td>1.920164</td>\n",
              "    </tr>\n",
              "    <tr>\n",
              "      <th>DL</th>\n",
              "      <td>6668</td>\n",
              "      <td>384325</td>\n",
              "      <td>1.734990</td>\n",
              "    </tr>\n",
              "    <tr>\n",
              "      <th>WN</th>\n",
              "      <td>8838</td>\n",
              "      <td>576220</td>\n",
              "      <td>1.533789</td>\n",
              "    </tr>\n",
              "    <tr>\n",
              "      <th>US</th>\n",
              "      <td>3094</td>\n",
              "      <td>233045</td>\n",
              "      <td>1.327641</td>\n",
              "    </tr>\n",
              "    <tr>\n",
              "      <th>AS</th>\n",
              "      <td>473</td>\n",
              "      <td>68900</td>\n",
              "      <td>0.686502</td>\n",
              "    </tr>\n",
              "    <tr>\n",
              "      <th>HA</th>\n",
              "      <td>105</td>\n",
              "      <td>18633</td>\n",
              "      <td>0.563516</td>\n",
              "    </tr>\n",
              "  </tbody>\n",
              "</table>\n",
              "</div>"
            ],
            "text/plain": [
              "    ArrDelay  NoofFlights  Delayperc\n",
              "VX      1334        34794   3.833994\n",
              "EV      5792       153808   3.765734\n",
              "MQ      3930       109307   3.595378\n",
              "B6      4070       121736   3.343300\n",
              "YV      1449        51803   2.797135\n",
              "9E      2112        77911   2.710785\n",
              "UA      7528       285207   2.639486\n",
              "F9       886        35761   2.477559\n",
              "AA      6956       288118   2.414289\n",
              "FL      1895        92393   2.051021\n",
              "OO      3042       158424   1.920164\n",
              "DL      6668       384325   1.734990\n",
              "WN      8838       576220   1.533789\n",
              "US      3094       233045   1.327641\n",
              "AS       473        68900   0.686502\n",
              "HA       105        18633   0.563516"
            ]
          },
          "metadata": {
            "tags": []
          },
          "execution_count": 17
        }
      ]
    },
    {
      "metadata": {
        "id": "SSzEfgJnGUva",
        "colab_type": "text"
      },
      "cell_type": "markdown",
      "source": [
        "**As we can see, the top airlines with flights delayed beyond 2 hours are VX i.e. *Virgin America* (3.8%), EV i.e. *ExpressJet AIrlines* (3.7%) and MQ i.e. *Envoy Air* (3.6%)**\n",
        "\n",
        "**Whereas, the airlines with the least amount of flights delayed beyond 2 hours are AS i.e. *Alaska Airlines* (0.6%) and HA i.e. *Hawaiian Airlines* (0.5%).** "
      ]
    },
    {
      "metadata": {
        "id": "xuzvwjahOQOc",
        "colab_type": "text"
      },
      "cell_type": "markdown",
      "source": [
        "###Busiest routes of 2013"
      ]
    },
    {
      "metadata": {
        "id": "6a1cBGdCMgBu",
        "colab_type": "text"
      },
      "cell_type": "markdown",
      "source": [
        "**We can see the busiest routes of 2013 below, in terms of flight frequency.**"
      ]
    },
    {
      "metadata": {
        "id": "TiwIT3hkOvSG",
        "colab_type": "code",
        "colab": {
          "base_uri": "https://localhost:8080/",
          "height": 253
        },
        "outputId": "aff9355f-3599-4815-f44c-36f6dfb734b7"
      },
      "cell_type": "code",
      "source": [
        "citypairfreq=pd.DataFrame(flightdelan.groupby(['OriginAirportID','DestAirportID'])['ArrDelay'].count().sort_values(ascending=False))\n",
        "citypairfreq.rename(columns = {'ArrDelay':'Flight_Frequency'},inplace=True)\n",
        "avgcitydel=pd.DataFrame(flightdelan.groupby(['OriginAirportID','DestAirportID'])['ArrDelay'].mean())\n",
        "avgcitydel.rename(columns = {'ArrDelay':'Avg_ArrivalDel'},inplace=True)\n",
        "pairdel=citypairfreq.join(avgcitydel,how='inner').sort_values('Flight_Frequency',ascending=False)\n",
        "pairdel.head()"
      ],
      "execution_count": 18,
      "outputs": [
        {
          "output_type": "execute_result",
          "data": {
            "text/html": [
              "<div>\n",
              "<style scoped>\n",
              "    .dataframe tbody tr th:only-of-type {\n",
              "        vertical-align: middle;\n",
              "    }\n",
              "\n",
              "    .dataframe tbody tr th {\n",
              "        vertical-align: top;\n",
              "    }\n",
              "\n",
              "    .dataframe thead th {\n",
              "        text-align: right;\n",
              "    }\n",
              "</style>\n",
              "<table border=\"1\" class=\"dataframe\">\n",
              "  <thead>\n",
              "    <tr style=\"text-align: right;\">\n",
              "      <th></th>\n",
              "      <th></th>\n",
              "      <th>Flight_Frequency</th>\n",
              "      <th>Avg_ArrivalDel</th>\n",
              "    </tr>\n",
              "    <tr>\n",
              "      <th>OriginAirportID</th>\n",
              "      <th>DestAirportID</th>\n",
              "      <th></th>\n",
              "      <th></th>\n",
              "    </tr>\n",
              "  </thead>\n",
              "  <tbody>\n",
              "    <tr>\n",
              "      <th>14771</th>\n",
              "      <th>12892</th>\n",
              "      <td>9367</td>\n",
              "      <td>11.640333</td>\n",
              "    </tr>\n",
              "    <tr>\n",
              "      <th>12892</th>\n",
              "      <th>14771</th>\n",
              "      <td>9306</td>\n",
              "      <td>18.240920</td>\n",
              "    </tr>\n",
              "    <tr>\n",
              "      <th>13830</th>\n",
              "      <th>12173</th>\n",
              "      <td>6891</td>\n",
              "      <td>6.337542</td>\n",
              "    </tr>\n",
              "    <tr>\n",
              "      <th>12892</th>\n",
              "      <th>12889</th>\n",
              "      <td>6861</td>\n",
              "      <td>6.558811</td>\n",
              "    </tr>\n",
              "    <tr>\n",
              "      <th>12173</th>\n",
              "      <th>13830</th>\n",
              "      <td>6856</td>\n",
              "      <td>5.477392</td>\n",
              "    </tr>\n",
              "  </tbody>\n",
              "</table>\n",
              "</div>"
            ],
            "text/plain": [
              "                               Flight_Frequency  Avg_ArrivalDel\n",
              "OriginAirportID DestAirportID                                  \n",
              "14771           12892                      9367       11.640333\n",
              "12892           14771                      9306       18.240920\n",
              "13830           12173                      6891        6.337542\n",
              "12892           12889                      6861        6.558811\n",
              "12173           13830                      6856        5.477392"
            ]
          },
          "metadata": {
            "tags": []
          },
          "execution_count": 18
        }
      ]
    },
    {
      "metadata": {
        "id": "kSn4hAguIzsK",
        "colab_type": "text"
      },
      "cell_type": "markdown",
      "source": [
        "**We are now going to see which city pairs these are by referring the original table. **\n",
        "\n",
        "**As can be seen below, the first place belongs to: San Franciso - Los Angeles and the second place is simply the reverse route.**"
      ]
    },
    {
      "metadata": {
        "id": "zt00nw52rYL5",
        "colab_type": "code",
        "colab": {
          "base_uri": "https://localhost:8080/",
          "height": 265
        },
        "outputId": "0a6df496-a0aa-40a7-a1fc-e58bb4d6d500"
      },
      "cell_type": "code",
      "source": [
        "flightdelfin[(flightdelfin.OriginAirportID==14771)&(flightdelfin.DestAirportID==12892)].head(3)"
      ],
      "execution_count": 19,
      "outputs": [
        {
          "output_type": "execute_result",
          "data": {
            "text/html": [
              "<div>\n",
              "<style scoped>\n",
              "    .dataframe tbody tr th:only-of-type {\n",
              "        vertical-align: middle;\n",
              "    }\n",
              "\n",
              "    .dataframe tbody tr th {\n",
              "        vertical-align: top;\n",
              "    }\n",
              "\n",
              "    .dataframe thead th {\n",
              "        text-align: right;\n",
              "    }\n",
              "</style>\n",
              "<table border=\"1\" class=\"dataframe\">\n",
              "  <thead>\n",
              "    <tr style=\"text-align: right;\">\n",
              "      <th></th>\n",
              "      <th>Month</th>\n",
              "      <th>DayofMonth</th>\n",
              "      <th>DayOfWeek</th>\n",
              "      <th>Carrier</th>\n",
              "      <th>OriginAirportID</th>\n",
              "      <th>DestAirportID</th>\n",
              "      <th>CRSDepTime</th>\n",
              "      <th>DepDelay</th>\n",
              "      <th>DepDel15</th>\n",
              "      <th>CRSArrTime</th>\n",
              "      <th>ArrDelay</th>\n",
              "      <th>ArrDel15</th>\n",
              "      <th>cityor</th>\n",
              "      <th>stateor</th>\n",
              "      <th>nameor</th>\n",
              "      <th>citydest</th>\n",
              "      <th>statedest</th>\n",
              "      <th>namedest</th>\n",
              "    </tr>\n",
              "  </thead>\n",
              "  <tbody>\n",
              "    <tr>\n",
              "      <th>86438</th>\n",
              "      <td>4</td>\n",
              "      <td>2</td>\n",
              "      <td>2</td>\n",
              "      <td>AA</td>\n",
              "      <td>14771</td>\n",
              "      <td>12892</td>\n",
              "      <td>700</td>\n",
              "      <td>-2.0</td>\n",
              "      <td>0.0</td>\n",
              "      <td>830</td>\n",
              "      <td>-17.0</td>\n",
              "      <td>0.0</td>\n",
              "      <td>San Francisco</td>\n",
              "      <td>CA</td>\n",
              "      <td>San Francisco International</td>\n",
              "      <td>Los Angeles</td>\n",
              "      <td>CA</td>\n",
              "      <td>Los Angeles International</td>\n",
              "    </tr>\n",
              "    <tr>\n",
              "      <th>86439</th>\n",
              "      <td>4</td>\n",
              "      <td>3</td>\n",
              "      <td>3</td>\n",
              "      <td>AA</td>\n",
              "      <td>14771</td>\n",
              "      <td>12892</td>\n",
              "      <td>700</td>\n",
              "      <td>-5.0</td>\n",
              "      <td>0.0</td>\n",
              "      <td>830</td>\n",
              "      <td>-14.0</td>\n",
              "      <td>0.0</td>\n",
              "      <td>San Francisco</td>\n",
              "      <td>CA</td>\n",
              "      <td>San Francisco International</td>\n",
              "      <td>Los Angeles</td>\n",
              "      <td>CA</td>\n",
              "      <td>Los Angeles International</td>\n",
              "    </tr>\n",
              "    <tr>\n",
              "      <th>86440</th>\n",
              "      <td>4</td>\n",
              "      <td>4</td>\n",
              "      <td>4</td>\n",
              "      <td>AA</td>\n",
              "      <td>14771</td>\n",
              "      <td>12892</td>\n",
              "      <td>700</td>\n",
              "      <td>-1.0</td>\n",
              "      <td>0.0</td>\n",
              "      <td>830</td>\n",
              "      <td>-8.0</td>\n",
              "      <td>0.0</td>\n",
              "      <td>San Francisco</td>\n",
              "      <td>CA</td>\n",
              "      <td>San Francisco International</td>\n",
              "      <td>Los Angeles</td>\n",
              "      <td>CA</td>\n",
              "      <td>Los Angeles International</td>\n",
              "    </tr>\n",
              "  </tbody>\n",
              "</table>\n",
              "</div>"
            ],
            "text/plain": [
              "       Month  DayofMonth  DayOfWeek Carrier OriginAirportID DestAirportID  \\\n",
              "86438      4           2          2      AA           14771         12892   \n",
              "86439      4           3          3      AA           14771         12892   \n",
              "86440      4           4          4      AA           14771         12892   \n",
              "\n",
              "       CRSDepTime  DepDelay DepDel15  CRSArrTime  ArrDelay ArrDel15  \\\n",
              "86438         700      -2.0      0.0         830     -17.0      0.0   \n",
              "86439         700      -5.0      0.0         830     -14.0      0.0   \n",
              "86440         700      -1.0      0.0         830      -8.0      0.0   \n",
              "\n",
              "              cityor stateor                        nameor     citydest  \\\n",
              "86438  San Francisco      CA   San Francisco International  Los Angeles   \n",
              "86439  San Francisco      CA   San Francisco International  Los Angeles   \n",
              "86440  San Francisco      CA   San Francisco International  Los Angeles   \n",
              "\n",
              "      statedest                    namedest  \n",
              "86438        CA   Los Angeles International  \n",
              "86439        CA   Los Angeles International  \n",
              "86440        CA   Los Angeles International  "
            ]
          },
          "metadata": {
            "tags": []
          },
          "execution_count": 19
        }
      ]
    },
    {
      "metadata": {
        "id": "sxys4U-KJY4h",
        "colab_type": "text"
      },
      "cell_type": "markdown",
      "source": [
        "**The second city pair (third after SFO-LA and LA-SFO) that is the most frequent is Kahului to Honolulu.**"
      ]
    },
    {
      "metadata": {
        "id": "iQCw7-a5JMSY",
        "colab_type": "code",
        "colab": {
          "base_uri": "https://localhost:8080/",
          "height": 213
        },
        "outputId": "280a10dd-d40e-4263-9628-8d0bafdf5546"
      },
      "cell_type": "code",
      "source": [
        "flightdelfin[(flightdelfin.OriginAirportID==13830)&(flightdelfin.DestAirportID==12173)].head(3)"
      ],
      "execution_count": 20,
      "outputs": [
        {
          "output_type": "execute_result",
          "data": {
            "text/html": [
              "<div>\n",
              "<style scoped>\n",
              "    .dataframe tbody tr th:only-of-type {\n",
              "        vertical-align: middle;\n",
              "    }\n",
              "\n",
              "    .dataframe tbody tr th {\n",
              "        vertical-align: top;\n",
              "    }\n",
              "\n",
              "    .dataframe thead th {\n",
              "        text-align: right;\n",
              "    }\n",
              "</style>\n",
              "<table border=\"1\" class=\"dataframe\">\n",
              "  <thead>\n",
              "    <tr style=\"text-align: right;\">\n",
              "      <th></th>\n",
              "      <th>Month</th>\n",
              "      <th>DayofMonth</th>\n",
              "      <th>DayOfWeek</th>\n",
              "      <th>Carrier</th>\n",
              "      <th>OriginAirportID</th>\n",
              "      <th>DestAirportID</th>\n",
              "      <th>CRSDepTime</th>\n",
              "      <th>DepDelay</th>\n",
              "      <th>DepDel15</th>\n",
              "      <th>CRSArrTime</th>\n",
              "      <th>ArrDelay</th>\n",
              "      <th>ArrDel15</th>\n",
              "      <th>cityor</th>\n",
              "      <th>stateor</th>\n",
              "      <th>nameor</th>\n",
              "      <th>citydest</th>\n",
              "      <th>statedest</th>\n",
              "      <th>namedest</th>\n",
              "    </tr>\n",
              "  </thead>\n",
              "  <tbody>\n",
              "    <tr>\n",
              "      <th>66082</th>\n",
              "      <td>4</td>\n",
              "      <td>1</td>\n",
              "      <td>1</td>\n",
              "      <td>HA</td>\n",
              "      <td>13830</td>\n",
              "      <td>12173</td>\n",
              "      <td>609</td>\n",
              "      <td>1.0</td>\n",
              "      <td>0.0</td>\n",
              "      <td>641</td>\n",
              "      <td>7.0</td>\n",
              "      <td>0.0</td>\n",
              "      <td>Kahului</td>\n",
              "      <td>HI</td>\n",
              "      <td>Kahului Airport</td>\n",
              "      <td>Honolulu</td>\n",
              "      <td>HI</td>\n",
              "      <td>Honolulu International</td>\n",
              "    </tr>\n",
              "    <tr>\n",
              "      <th>66083</th>\n",
              "      <td>4</td>\n",
              "      <td>2</td>\n",
              "      <td>2</td>\n",
              "      <td>HA</td>\n",
              "      <td>13830</td>\n",
              "      <td>12173</td>\n",
              "      <td>609</td>\n",
              "      <td>-3.0</td>\n",
              "      <td>0.0</td>\n",
              "      <td>641</td>\n",
              "      <td>1.0</td>\n",
              "      <td>0.0</td>\n",
              "      <td>Kahului</td>\n",
              "      <td>HI</td>\n",
              "      <td>Kahului Airport</td>\n",
              "      <td>Honolulu</td>\n",
              "      <td>HI</td>\n",
              "      <td>Honolulu International</td>\n",
              "    </tr>\n",
              "    <tr>\n",
              "      <th>66084</th>\n",
              "      <td>4</td>\n",
              "      <td>3</td>\n",
              "      <td>3</td>\n",
              "      <td>HA</td>\n",
              "      <td>13830</td>\n",
              "      <td>12173</td>\n",
              "      <td>609</td>\n",
              "      <td>-8.0</td>\n",
              "      <td>0.0</td>\n",
              "      <td>641</td>\n",
              "      <td>-6.0</td>\n",
              "      <td>0.0</td>\n",
              "      <td>Kahului</td>\n",
              "      <td>HI</td>\n",
              "      <td>Kahului Airport</td>\n",
              "      <td>Honolulu</td>\n",
              "      <td>HI</td>\n",
              "      <td>Honolulu International</td>\n",
              "    </tr>\n",
              "  </tbody>\n",
              "</table>\n",
              "</div>"
            ],
            "text/plain": [
              "       Month  DayofMonth  DayOfWeek Carrier OriginAirportID DestAirportID  \\\n",
              "66082      4           1          1      HA           13830         12173   \n",
              "66083      4           2          2      HA           13830         12173   \n",
              "66084      4           3          3      HA           13830         12173   \n",
              "\n",
              "       CRSDepTime  DepDelay DepDel15  CRSArrTime  ArrDelay ArrDel15   cityor  \\\n",
              "66082         609       1.0      0.0         641       7.0      0.0  Kahului   \n",
              "66083         609      -3.0      0.0         641       1.0      0.0  Kahului   \n",
              "66084         609      -8.0      0.0         641      -6.0      0.0  Kahului   \n",
              "\n",
              "      stateor            nameor  citydest statedest                 namedest  \n",
              "66082      HI   Kahului Airport  Honolulu        HI   Honolulu International  \n",
              "66083      HI   Kahului Airport  Honolulu        HI   Honolulu International  \n",
              "66084      HI   Kahului Airport  Honolulu        HI   Honolulu International  "
            ]
          },
          "metadata": {
            "tags": []
          },
          "execution_count": 20
        }
      ]
    },
    {
      "metadata": {
        "id": "iKAPnviGKE24",
        "colab_type": "text"
      },
      "cell_type": "markdown",
      "source": [
        "## Prediction"
      ]
    },
    {
      "metadata": {
        "id": "SQQmg_vPNBu-",
        "colab_type": "text"
      },
      "cell_type": "markdown",
      "source": [
        "### Convert Categorical Variables to Indicator Variables"
      ]
    },
    {
      "metadata": {
        "id": "y3Lg5yDoMpMP",
        "colab_type": "text"
      },
      "cell_type": "markdown",
      "source": [
        "**To do any sort of prediction, we need to convert the categorical variables to dummy (indicator) variables and drop one group in for each categorical column in the original table, so as to get a baseline to compare to. If we do not drop one group from each categorical variable, our regression will fail due to multicollinearity.**\n",
        "\n",
        "**The choice of which group(s) to drop is complete arbitrary but in our case, we will drop the carrier with the least number of flights i.e. Hawaiian Airlines (HA), and we will choose an arbitrary city pair with just 1 flight frequency to drop. As of now I have chosen the OriginAirportID as 14771\tand the DestAirportID as 13871 to be dropped.**\n"
      ]
    },
    {
      "metadata": {
        "id": "V5QH9sG0LPqP",
        "colab_type": "code",
        "colab": {
          "base_uri": "https://localhost:8080/",
          "height": 321
        },
        "outputId": "df70290a-09dd-4f64-80c2-257567a9b7f5"
      },
      "cell_type": "code",
      "source": [
        "flightdeldum=pd.get_dummies(flightdelan)\n",
        "flightdeldum.drop(['Carrier_HA','OriginAirportID_14771','DestAirportID_13871'],axis=1,inplace=True)\n",
        "flightdeldum.head()"
      ],
      "execution_count": 21,
      "outputs": [
        {
          "output_type": "execute_result",
          "data": {
            "text/html": [
              "<div>\n",
              "<style scoped>\n",
              "    .dataframe tbody tr th:only-of-type {\n",
              "        vertical-align: middle;\n",
              "    }\n",
              "\n",
              "    .dataframe tbody tr th {\n",
              "        vertical-align: top;\n",
              "    }\n",
              "\n",
              "    .dataframe thead th {\n",
              "        text-align: right;\n",
              "    }\n",
              "</style>\n",
              "<table border=\"1\" class=\"dataframe\">\n",
              "  <thead>\n",
              "    <tr style=\"text-align: right;\">\n",
              "      <th></th>\n",
              "      <th>Month</th>\n",
              "      <th>DayofMonth</th>\n",
              "      <th>DayOfWeek</th>\n",
              "      <th>CRSDepTime</th>\n",
              "      <th>DepDelay</th>\n",
              "      <th>CRSArrTime</th>\n",
              "      <th>ArrDelay</th>\n",
              "      <th>Carrier_9E</th>\n",
              "      <th>Carrier_AA</th>\n",
              "      <th>Carrier_AS</th>\n",
              "      <th>...</th>\n",
              "      <th>DestAirportID_14747</th>\n",
              "      <th>DestAirportID_14771</th>\n",
              "      <th>DestAirportID_14831</th>\n",
              "      <th>DestAirportID_14843</th>\n",
              "      <th>DestAirportID_14869</th>\n",
              "      <th>DestAirportID_14893</th>\n",
              "      <th>DestAirportID_14908</th>\n",
              "      <th>DestAirportID_15016</th>\n",
              "      <th>DestAirportID_15304</th>\n",
              "      <th>DestAirportID_15376</th>\n",
              "    </tr>\n",
              "  </thead>\n",
              "  <tbody>\n",
              "    <tr>\n",
              "      <th>0</th>\n",
              "      <td>4</td>\n",
              "      <td>19</td>\n",
              "      <td>5</td>\n",
              "      <td>837</td>\n",
              "      <td>-3.0</td>\n",
              "      <td>1138</td>\n",
              "      <td>1.0</td>\n",
              "      <td>0</td>\n",
              "      <td>0</td>\n",
              "      <td>0</td>\n",
              "      <td>...</td>\n",
              "      <td>0</td>\n",
              "      <td>0</td>\n",
              "      <td>0</td>\n",
              "      <td>0</td>\n",
              "      <td>0</td>\n",
              "      <td>0</td>\n",
              "      <td>0</td>\n",
              "      <td>0</td>\n",
              "      <td>0</td>\n",
              "      <td>0</td>\n",
              "    </tr>\n",
              "    <tr>\n",
              "      <th>1</th>\n",
              "      <td>4</td>\n",
              "      <td>19</td>\n",
              "      <td>5</td>\n",
              "      <td>1705</td>\n",
              "      <td>0.0</td>\n",
              "      <td>2336</td>\n",
              "      <td>-8.0</td>\n",
              "      <td>0</td>\n",
              "      <td>0</td>\n",
              "      <td>0</td>\n",
              "      <td>...</td>\n",
              "      <td>0</td>\n",
              "      <td>0</td>\n",
              "      <td>0</td>\n",
              "      <td>0</td>\n",
              "      <td>0</td>\n",
              "      <td>0</td>\n",
              "      <td>0</td>\n",
              "      <td>0</td>\n",
              "      <td>0</td>\n",
              "      <td>0</td>\n",
              "    </tr>\n",
              "    <tr>\n",
              "      <th>2</th>\n",
              "      <td>4</td>\n",
              "      <td>19</td>\n",
              "      <td>5</td>\n",
              "      <td>600</td>\n",
              "      <td>-4.0</td>\n",
              "      <td>851</td>\n",
              "      <td>-15.0</td>\n",
              "      <td>0</td>\n",
              "      <td>0</td>\n",
              "      <td>0</td>\n",
              "      <td>...</td>\n",
              "      <td>0</td>\n",
              "      <td>0</td>\n",
              "      <td>0</td>\n",
              "      <td>0</td>\n",
              "      <td>1</td>\n",
              "      <td>0</td>\n",
              "      <td>0</td>\n",
              "      <td>0</td>\n",
              "      <td>0</td>\n",
              "      <td>0</td>\n",
              "    </tr>\n",
              "    <tr>\n",
              "      <th>3</th>\n",
              "      <td>4</td>\n",
              "      <td>19</td>\n",
              "      <td>5</td>\n",
              "      <td>1630</td>\n",
              "      <td>28.0</td>\n",
              "      <td>1903</td>\n",
              "      <td>24.0</td>\n",
              "      <td>0</td>\n",
              "      <td>0</td>\n",
              "      <td>0</td>\n",
              "      <td>...</td>\n",
              "      <td>0</td>\n",
              "      <td>0</td>\n",
              "      <td>0</td>\n",
              "      <td>0</td>\n",
              "      <td>0</td>\n",
              "      <td>0</td>\n",
              "      <td>0</td>\n",
              "      <td>0</td>\n",
              "      <td>0</td>\n",
              "      <td>0</td>\n",
              "    </tr>\n",
              "    <tr>\n",
              "      <th>4</th>\n",
              "      <td>4</td>\n",
              "      <td>19</td>\n",
              "      <td>5</td>\n",
              "      <td>1615</td>\n",
              "      <td>-6.0</td>\n",
              "      <td>1805</td>\n",
              "      <td>-11.0</td>\n",
              "      <td>0</td>\n",
              "      <td>0</td>\n",
              "      <td>0</td>\n",
              "      <td>...</td>\n",
              "      <td>0</td>\n",
              "      <td>0</td>\n",
              "      <td>0</td>\n",
              "      <td>0</td>\n",
              "      <td>0</td>\n",
              "      <td>0</td>\n",
              "      <td>0</td>\n",
              "      <td>0</td>\n",
              "      <td>0</td>\n",
              "      <td>0</td>\n",
              "    </tr>\n",
              "  </tbody>\n",
              "</table>\n",
              "<p>5 rows × 160 columns</p>\n",
              "</div>"
            ],
            "text/plain": [
              "   Month  DayofMonth  DayOfWeek  CRSDepTime  DepDelay  CRSArrTime  ArrDelay  \\\n",
              "0      4          19          5         837      -3.0        1138       1.0   \n",
              "1      4          19          5        1705       0.0        2336      -8.0   \n",
              "2      4          19          5         600      -4.0         851     -15.0   \n",
              "3      4          19          5        1630      28.0        1903      24.0   \n",
              "4      4          19          5        1615      -6.0        1805     -11.0   \n",
              "\n",
              "   Carrier_9E  Carrier_AA  Carrier_AS         ...           \\\n",
              "0           0           0           0         ...            \n",
              "1           0           0           0         ...            \n",
              "2           0           0           0         ...            \n",
              "3           0           0           0         ...            \n",
              "4           0           0           0         ...            \n",
              "\n",
              "   DestAirportID_14747  DestAirportID_14771  DestAirportID_14831  \\\n",
              "0                    0                    0                    0   \n",
              "1                    0                    0                    0   \n",
              "2                    0                    0                    0   \n",
              "3                    0                    0                    0   \n",
              "4                    0                    0                    0   \n",
              "\n",
              "   DestAirportID_14843  DestAirportID_14869  DestAirportID_14893  \\\n",
              "0                    0                    0                    0   \n",
              "1                    0                    0                    0   \n",
              "2                    0                    1                    0   \n",
              "3                    0                    0                    0   \n",
              "4                    0                    0                    0   \n",
              "\n",
              "   DestAirportID_14908  DestAirportID_15016  DestAirportID_15304  \\\n",
              "0                    0                    0                    0   \n",
              "1                    0                    0                    0   \n",
              "2                    0                    0                    0   \n",
              "3                    0                    0                    0   \n",
              "4                    0                    0                    0   \n",
              "\n",
              "   DestAirportID_15376  \n",
              "0                    0  \n",
              "1                    0  \n",
              "2                    0  \n",
              "3                    0  \n",
              "4                    0  \n",
              "\n",
              "[5 rows x 160 columns]"
            ]
          },
          "metadata": {
            "tags": []
          },
          "execution_count": 21
        }
      ]
    },
    {
      "metadata": {
        "id": "R6D8oxCQNriC",
        "colab_type": "text"
      },
      "cell_type": "markdown",
      "source": [
        "**As one can see above, each cateogrical column has been converted to 'n' binary columns where n was the number of groups in that particular categorical column.  For example, the carrier column has been split into 16  indicator columns (number of unique carriers) and one has been dropped ('Carrier_HA').**\n",
        "\n",
        "**Similar logic can be applied to the DestAirportID and OriginAirportID categorical columns.**\n",
        "\n",
        "**NOTE: The Month, DayofMonth and DayofWeek columns have not been converted to indicator variables because they are ORDINAL cateogorical variables and not nominal. There is a need to retain their ordering because the 2nd month comes after the 1st and so on. Hence, since their current form retains their natural ordering, we do not need to touch these columns.**"
      ]
    },
    {
      "metadata": {
        "id": "x3OqPvSxOY9W",
        "colab_type": "text"
      },
      "cell_type": "markdown",
      "source": [
        "### Stochastic Gradient Descent (SGD) Regression"
      ]
    },
    {
      "metadata": {
        "id": "uiltsD6uOfuv",
        "colab_type": "text"
      },
      "cell_type": "markdown",
      "source": [
        "**To predict the arrival delays for various combinations of the input variables and future unseen data, we need to perform a regression since the output variable (ArrDelay) is a continuous one.**\n",
        "\n",
        "**The choice of an SGD regressor is a logical one as we have hundreds of features, and about 2.7 million observations. The classic multiple linear regression will take too long as the resultant data matrix will be too large to invert. Similar time complexity arguments can be made for simple Gradient Descent as that involves the calculation of the gradient at all observations. Hence, SGD will be suitable and much faster!**"
      ]
    },
    {
      "metadata": {
        "id": "47ZD7cWQs_t_",
        "colab_type": "code",
        "colab": {}
      },
      "cell_type": "code",
      "source": [
        "scaler = preprocessing.StandardScaler()\n",
        "flightdeldum[['CRSDepTime','CRSArrTime','DepDelay']]=scaler.fit_transform(flightdeldum[['CRSDepTime','CRSArrTime','DepDelay']])\n",
        "y=flightdeldum.ArrDelay\n",
        "X=flightdeldum.drop('ArrDelay',axis=1)"
      ],
      "execution_count": 0,
      "outputs": []
    },
    {
      "metadata": {
        "id": "iNeMDAgDQDyQ",
        "colab_type": "text"
      },
      "cell_type": "markdown",
      "source": [
        "**In the cell above, we have scaled the relevant columns (Z score) that had values that were dissimilar to the rest of the features, as the regularization strategy we are going to use, requires features to be in a similar range.**\n",
        "\n",
        "**We now split the data into training and testing data and in this case, we are going to use 80% of the data for training and the remaining for testing.**"
      ]
    },
    {
      "metadata": {
        "id": "wWPrTWHR0X6X",
        "colab_type": "code",
        "colab": {}
      },
      "cell_type": "code",
      "source": [
        "X_train, X_test, y_train, y_test = train_test_split(X, y, test_size=0.2, random_state=123)"
      ],
      "execution_count": 0,
      "outputs": []
    },
    {
      "metadata": {
        "id": "oEsRj6ZkRMik",
        "colab_type": "text"
      },
      "cell_type": "markdown",
      "source": [
        "**We will use elastic net regularization to get the best of both L1 and L2 regularizations. We want feature selection (L1/LASSO) and we want to eliminate any errors due to feature correlations, if any (L2/Ridge).**"
      ]
    },
    {
      "metadata": {
        "id": "rzuFoC9j1kVN",
        "colab_type": "code",
        "colab": {
          "base_uri": "https://localhost:8080/",
          "height": 159
        },
        "outputId": "7ed47411-00a7-4a0c-c754-ee0458389568"
      },
      "cell_type": "code",
      "source": [
        "reg=SGDRegressor(loss=\"squared_loss\", penalty=\"elasticnet\")\n",
        "reg.fit(X_train,y_train)"
      ],
      "execution_count": 24,
      "outputs": [
        {
          "output_type": "stream",
          "text": [
            "/usr/local/lib/python2.7/dist-packages/sklearn/linear_model/stochastic_gradient.py:128: FutureWarning: max_iter and tol parameters have been added in <class 'sklearn.linear_model.stochastic_gradient.SGDRegressor'> in 0.19. If both are left unset, they default to max_iter=5 and tol=None. If tol is not None, max_iter defaults to max_iter=1000. From 0.21, default max_iter will be 1000, and default tol will be 1e-3.\n",
            "  \"and default tol will be 1e-3.\" % type(self), FutureWarning)\n"
          ],
          "name": "stderr"
        },
        {
          "output_type": "execute_result",
          "data": {
            "text/plain": [
              "SGDRegressor(alpha=0.0001, average=False, epsilon=0.1, eta0=0.01,\n",
              "       fit_intercept=True, l1_ratio=0.15, learning_rate='invscaling',\n",
              "       loss='squared_loss', max_iter=None, n_iter=None,\n",
              "       penalty='elasticnet', power_t=0.25, random_state=None, shuffle=True,\n",
              "       tol=None, verbose=0, warm_start=False)"
            ]
          },
          "metadata": {
            "tags": []
          },
          "execution_count": 24
        }
      ]
    },
    {
      "metadata": {
        "id": "ry1VfkhZR1IY",
        "colab_type": "text"
      },
      "cell_type": "markdown",
      "source": [
        "**In the above cell, we trained the model using the SGDRegressor and now it is time to predict using the test data.**"
      ]
    },
    {
      "metadata": {
        "id": "SsHPQ4yF3yQd",
        "colab_type": "code",
        "colab": {}
      },
      "cell_type": "code",
      "source": [
        "y_pred=reg.predict(X_test)"
      ],
      "execution_count": 0,
      "outputs": []
    },
    {
      "metadata": {
        "id": "fhgB9xmq5ItY",
        "colab_type": "code",
        "colab": {
          "base_uri": "https://localhost:8080/",
          "height": 52
        },
        "outputId": "35732049-f66e-4073-cf3f-e7211addf625"
      },
      "cell_type": "code",
      "source": [
        "# The coefficients\n",
        "#print('Coefficients: \\n', reg.coef_)\n",
        "# The mean squared error\n",
        "print(\"Mean squared error: %.2f\"\n",
        "      % mean_squared_error(y_test.values, y_pred))\n",
        "# Explained variance score: 1 is perfect prediction\n",
        "print('Variance score: %.2f' % r2_score(y_test.values, y_pred))"
      ],
      "execution_count": 26,
      "outputs": [
        {
          "output_type": "stream",
          "text": [
            "Mean squared error: 183.24\n",
            "Variance score: 0.88\n"
          ],
          "name": "stdout"
        }
      ]
    },
    {
      "metadata": {
        "id": "aiV1QRvD4R6d",
        "colab_type": "code",
        "colab": {
          "base_uri": "https://localhost:8080/",
          "height": 361
        },
        "outputId": "99ae4b43-0be7-4626-817b-810815b37bf7"
      },
      "cell_type": "code",
      "source": [
        "plt.scatter(y_test.values, y_pred)\n",
        "plt.xlabel(\"True Values\")\n",
        "plt.ylabel(\"Predictions\")\n",
        "plt.show()"
      ],
      "execution_count": 27,
      "outputs": [
        {
          "output_type": "display_data",
          "data": {
            "image/png": "[encoded data removed]",
            "text/plain": [
              "<matplotlib.figure.Figure at 0x7f7829546890>"
            ]
          },
          "metadata": {
            "tags": []
          }
        }
      ]
    },
    {
      "metadata": {
        "id": "KvftEmqfSQP9",
        "colab_type": "text"
      },
      "cell_type": "markdown",
      "source": [
        "**As we can see from the above cells, 89% of the variance (R^2 score) in the data has been captured and the model is predicting well. The trend line in the graph would be very close to the ideal 45 degree trend line (expected line if the model predicted with 100% accuracy).**\n",
        "\n",
        "**However, we do not want to overfit our model because we want it to perform well on new untested data. To check if our model overfits, we can run a 6 fold cross validation and analyze the variance (R^2 scores) on each fold ,as shown below:**"
      ]
    },
    {
      "metadata": {
        "id": "xTJI5mKZ8ByE",
        "colab_type": "code",
        "colab": {
          "base_uri": "https://localhost:8080/",
          "height": 35
        },
        "outputId": "e506969d-3a83-45bb-f0a3-29a36b8250cf"
      },
      "cell_type": "code",
      "source": [
        "# Perform 6-fold cross validation\n",
        "kfold = KFold(n_splits=6)\n",
        "scores = cross_val_score(reg, X, y, cv=kfold)\n",
        "print 'Cross-validated scores:', scores"
      ],
      "execution_count": 28,
      "outputs": [
        {
          "output_type": "stream",
          "text": [
            "Cross-validated scores: [0.89341664 0.88913277 0.90557714 0.88741018 0.87579391 0.84723398]\n"
          ],
          "name": "stdout"
        }
      ]
    },
    {
      "metadata": {
        "id": "HY2-ntljMUAX",
        "colab_type": "text"
      },
      "cell_type": "markdown",
      "source": [
        "###Grid Search (Hyperparameter Tuning) (Optional and Computationally Expensive)"
      ]
    },
    {
      "metadata": {
        "id": "2isnB9odM8FY",
        "colab_type": "text"
      },
      "cell_type": "markdown",
      "source": [
        "**The following function performs a search over the entire parameter grid (as specified below) for the initial learning rate, and L1 ratio, and returns the optimal parameters, after an n fold cross validation.**"
      ]
    },
    {
      "metadata": {
        "id": "Rs_QCcgUcBZv",
        "colab_type": "code",
        "colab": {}
      },
      "cell_type": "code",
      "source": [
        "#https://medium.com/@aneesha/svm-parameter-tuning-in-scikit-learn-using-gridsearchcv-2413c02125a0\n",
        "def SGD_param_selection(X, y, nfolds):\n",
        "    eta0s = [0.001, 0.01, 0.1]\n",
        "    l1_ratios = [0.15, 0.25, 0.35, 0.45, 0.55]\n",
        "    param_grid = {'eta0': eta0s, 'l1_ratio' : l1_ratios}\n",
        "    grid_search = GridSearchCV(SGDRegressor(loss=\"squared_loss\", penalty=\"elasticnet\"), param_grid, cv=nfolds)\n",
        "    grid_search.fit(X, y)\n",
        "    grid_search.best_params_\n",
        "    return grid_search.best_params_"
      ],
      "execution_count": 0,
      "outputs": []
    },
    {
      "metadata": {
        "id": "3Z-4CJDXDOL1",
        "colab_type": "code",
        "colab": {
          "base_uri": "https://localhost:8080/",
          "height": 35
        },
        "outputId": "7977e876-99b7-41e6-cd70-aa7ed50227a3"
      },
      "cell_type": "code",
      "source": [
        "SGD_param_selection(X_train,y_train,5)"
      ],
      "execution_count": 30,
      "outputs": [
        {
          "output_type": "execute_result",
          "data": {
            "text/plain": [
              "{'eta0': 0.001, 'l1_ratio': 0.15}"
            ]
          },
          "metadata": {
            "tags": []
          },
          "execution_count": 30
        }
      ]
    },
    {
      "metadata": {
        "id": "3xCEr0AdWU3o",
        "colab_type": "text"
      },
      "cell_type": "markdown",
      "source": [
        "**As we can see above, the grid search has yielded the optimal parameters for the initial learning rate and L1 ratio. This process took about 25 minutes to execute as it is very computationally expensive.**\n",
        "\n",
        "**Let us now run the SGD with these parameters and check the accuracy.**"
      ]
    },
    {
      "metadata": {
        "id": "AeGCL4h-Y4Cm",
        "colab_type": "code",
        "colab": {
          "base_uri": "https://localhost:8080/",
          "height": 104
        },
        "outputId": "b1f40fae-ceda-4d52-dfd8-489908322b03"
      },
      "cell_type": "code",
      "source": [
        "reg1=SGDRegressor(loss=\"squared_loss\", penalty=\"elasticnet\",eta0= 0.001,l1_ratio= 0.45)\n",
        "reg1.fit(X_train,y_train)"
      ],
      "execution_count": 31,
      "outputs": [
        {
          "output_type": "execute_result",
          "data": {
            "text/plain": [
              "SGDRegressor(alpha=0.0001, average=False, epsilon=0.1, eta0=0.001,\n",
              "       fit_intercept=True, l1_ratio=0.45, learning_rate='invscaling',\n",
              "       loss='squared_loss', max_iter=None, n_iter=None,\n",
              "       penalty='elasticnet', power_t=0.25, random_state=None, shuffle=True,\n",
              "       tol=None, verbose=0, warm_start=False)"
            ]
          },
          "metadata": {
            "tags": []
          },
          "execution_count": 31
        }
      ]
    },
    {
      "metadata": {
        "id": "yI9Km-wZY4C0",
        "colab_type": "code",
        "colab": {}
      },
      "cell_type": "code",
      "source": [
        "y_pred1=reg1.predict(X_test)"
      ],
      "execution_count": 0,
      "outputs": []
    },
    {
      "metadata": {
        "id": "-Jqc5y96Y4DA",
        "colab_type": "code",
        "colab": {
          "base_uri": "https://localhost:8080/",
          "height": 52
        },
        "outputId": "7d5c9ccc-d716-497a-9779-011b2db4ae28"
      },
      "cell_type": "code",
      "source": [
        "# The coefficients\n",
        "#print('Coefficients: \\n', reg.coef_)\n",
        "# The mean squared error\n",
        "print(\"Mean squared error: %.2f\"\n",
        "      % mean_squared_error(y_test.values, y_pred1))\n",
        "# Explained variance score: 1 is perfect prediction\n",
        "print('Variance score: %.2f' % r2_score(y_test.values, y_pred1))"
      ],
      "execution_count": 33,
      "outputs": [
        {
          "output_type": "stream",
          "text": [
            "Mean squared error: 163.81\n",
            "Variance score: 0.89\n"
          ],
          "name": "stdout"
        }
      ]
    }
  ]
}