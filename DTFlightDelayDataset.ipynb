{
  "nbformat": 4,
  "nbformat_minor": 0,
  "metadata": {
    "colab": {
      "name": "DTFlightDelayDataset.ipynb",
      "version": "0.3.2",
      "provenance": [],
      "collapsed_sections": [],
      "include_colab_link": true
    }
  },
  "cells": [
    {
      "cell_type": "markdown",
      "metadata": {
        "id": "view-in-github",
        "colab_type": "text"
      },
      "source": [
        "[View in Colaboratory](https://colab.research.google.com/github/AnujArora23/FlightDelayML/blob/master/DTFlightDelayDataset.ipynb)"
      ]
    },
    {
      "metadata": {
        "id": "7kmOsbOk8Oml",
        "colab_type": "text"
      },
      "cell_type": "markdown",
      "source": [
        "# Flight Delay Prediction (Regression)\n",
        "\n",
        "**NOTE: THIS IS A CONTINUATION OF THE  *SGDFlightDelayDataset.ipynb*  NOTEBOOK WHICH USES  STOCHASTIC GRADIENT DESCENT REGRESSION. THIS PART ONLY CONTAINS THE BOOSTED DECISION TREE PREDICTION AND COMPARISON BETWEEN THE TWO. FOR DATA CLEANING AND EXPLORATION, PLEASE SEE THE PREVIOUS NOTEBOOK.**\n",
        "\n",
        "These datasets are taken from Microsoft Azure Machine Learning Studio's sample datasets. It contains flight delay data for various airlines for the year 2013. There are two files uploaded as a compressed archive on my GitHub page:\n",
        "\n",
        "1) **Flight_Delays_Data.csv** : This contains arrival and departure details for various flights operated by 16 different airlines. The schema is pretty self explanatory but I will mention the important and slightly obscure columns:\n",
        "\n",
        "*OriginAirportID/DestAirportID* : The unique 5 digit integer identifier for a particular airport.\n",
        "\n",
        "*CRSDepTime/CRSArrTime* : Time in 24 hour format (e.g. 837 is 08:37AM)\n",
        "\n",
        "*ArrDel15/DepDel15* : Binary columns where *1* means that the flight was delayed beyond 15 minutes and *0* means it was not.\n",
        "\n",
        "*ArrDelay/DepDelay* : Time (in minutes) by which flight was delayed.\n",
        "\n",
        "\n",
        "2) **Airport_Codes_Dataset.csv** : This file gives the city, state and name of the airport along with the unique 5 digit integer identifier.\n",
        "\n",
        "### Goals:\n",
        "\n",
        "\n",
        "**1.  Clean the data, and see which features may be important and which might be redundant.**\n",
        "\n",
        "**2. Do an exploratory analysis of the data to identify where most of the flight delays lie (e.g. which carrier, airport etc.).**\n",
        "\n",
        "**3.  Choose and build an appropriate regression model for this dataset to predict *ArrDelay* time in minutes.**\n",
        "\n",
        "**4. Choose and build alternative models and compare all models with various accuracy metrics.**\n",
        "\n"
      ]
    },
    {
      "metadata": {
        "id": "CcwKivrzAFWK",
        "colab_type": "text"
      },
      "cell_type": "markdown",
      "source": [
        "## Install and import necessary libraries"
      ]
    },
    {
      "metadata": {
        "id": "0y5RlAGbosPa",
        "colab_type": "code",
        "colab": {}
      },
      "cell_type": "code",
      "source": [
        "!pip install -U -q PyDrive #Only if you are loading your data from Google Drive"
      ],
      "execution_count": 0,
      "outputs": []
    },
    {
      "metadata": {
        "id": "_lXAbJkV-99X",
        "colab_type": "code",
        "colab": {
          "base_uri": "https://localhost:8080/",
          "height": 107
        },
        "outputId": "babc330c-ae98-4872-d4ab-faf1016ef12e"
      },
      "cell_type": "code",
      "source": [
        "from pydrive.auth import GoogleAuth\n",
        "from pydrive.drive import GoogleDrive\n",
        "from google.colab import auth\n",
        "from oauth2client.client import GoogleCredentials\n",
        "import pandas as pd\n",
        "import numpy as np\n",
        "import matplotlib.pyplot as plt\n",
        "import seaborn as sns\n",
        "from sklearn import preprocessing\n",
        "from sklearn.linear_model import SGDRegressor\n",
        "from sklearn.tree import DecisionTreeRegressor\n",
        "from sklearn.ensemble import AdaBoostRegressor\n",
        "from sklearn.model_selection import train_test_split\n",
        "from sklearn.metrics import mean_squared_error, r2_score\n",
        "from sklearn.model_selection import cross_val_score, cross_val_predict\n",
        "from sklearn.model_selection import KFold\n",
        "from sklearn.model_selection import GridSearchCV\n",
        "from sklearn import grid_search\n",
        "from sklearn import metrics"
      ],
      "execution_count": 2,
      "outputs": [
        {
          "output_type": "stream",
          "text": [
            "/usr/local/lib/python2.7/dist-packages/sklearn/cross_validation.py:41: DeprecationWarning: This module was deprecated in version 0.18 in favor of the model_selection module into which all the refactored classes and functions are moved. Also note that the interface of the new CV iterators are different from that of this module. This module will be removed in 0.20.\n",
            "  \"This module will be removed in 0.20.\", DeprecationWarning)\n",
            "/usr/local/lib/python2.7/dist-packages/sklearn/grid_search.py:42: DeprecationWarning: This module was deprecated in version 0.18 in favor of the model_selection module into which all the refactored classes and functions are moved. This module will be removed in 0.20.\n",
            "  DeprecationWarning)\n"
          ],
          "name": "stderr"
        }
      ]
    },
    {
      "metadata": {
        "id": "hO68PK14Fney",
        "colab_type": "text"
      },
      "cell_type": "markdown",
      "source": [
        "## Authorize Google Drive (if your data is stored in Drive)"
      ]
    },
    {
      "metadata": {
        "id": "de7fkRhk1Jlg",
        "colab_type": "code",
        "colab": {
          "base_uri": "https://localhost:8080/",
          "height": 125
        },
        "outputId": "8677f0ef-a0f2-409c-b314-f969746fed93"
      },
      "cell_type": "code",
      "source": [
        "%%capture\n",
        "auth.authenticate_user()\n",
        "gauth = GoogleAuth()\n",
        "gauth.credentials = GoogleCredentials.get_application_default()\n",
        "drive = GoogleDrive(gauth)"
      ],
      "execution_count": 3,
      "outputs": [
        {
          "output_type": "stream",
          "text": [
            "Go to the following link in your browser:\n",
            "\n",
            "    https://accounts.google.com/o/oauth2/auth?redirect_uri=urn%3Aietf%3Awg%3Aoauth%3A2.0%3Aoob&prompt=select_account&response_type=code&client_id=32555940559.apps.googleusercontent.com&scope=https%3A%2F%2Fwww.googleapis.com%2Fauth%2Fuserinfo.email+https%3A%2F%2Fwww.googleapis.com%2Fauth%2Fcloud-platform+https%3A%2F%2Fwww.googleapis.com%2Fauth%2Fappengine.admin+https%3A%2F%2Fwww.googleapis.com%2Fauth%2Fcompute+https%3A%2F%2Fwww.googleapis.com%2Fauth%2Faccounts.reauth+https%3A%2F%2Fwww.googleapis.com%2Fauth%2Fdrive&access_type=offline\n",
            "\n",
            "Enter verification code: ··········\n"
          ],
          "name": "stdout"
        }
      ]
    },
    {
      "metadata": {
        "id": "362Oj1GvAQEf",
        "colab_type": "text"
      },
      "cell_type": "markdown",
      "source": [
        "## Data Ingestion\n",
        "\n",
        "I have saved the two files in my personal drive storage and read them from there into a pandas data frame. Please modify the following cells to read the CSV files into a Pandas dataframe as per your storage location."
      ]
    },
    {
      "metadata": {
        "id": "diegBkCC1aRu",
        "colab_type": "code",
        "colab": {}
      },
      "cell_type": "code",
      "source": [
        "%%capture\n",
        "downloaded = drive.CreateFile({'id':'1VxxZFZO7copAM_AHHF42zjO7rlGR1aPm'}) # replace the id with id of file you want to access\n",
        "downloaded.GetContentFile('Airport_Codes_Dataset.csv')  \n",
        "downloaded = drive.CreateFile({'id':'1owzv86uWVRace_8xvRShFrDTRXSljp3I'}) # replace the id with id of file you want to access\n",
        "downloaded.GetContentFile('Flight_Delays_Data.csv') \n",
        "airpcode = pd.read_csv('Airport_Codes_Dataset.csv') \n",
        "flightdel = pd.read_csv('Flight_Delays_Data.csv') "
      ],
      "execution_count": 0,
      "outputs": []
    },
    {
      "metadata": {
        "id": "HZvjNRHcBB-f",
        "colab_type": "text"
      },
      "cell_type": "markdown",
      "source": [
        "## Data Cleanup"
      ]
    },
    {
      "metadata": {
        "id": "0j0RXaHHEQ6G",
        "colab_type": "text"
      },
      "cell_type": "markdown",
      "source": [
        "### Remove NULL /NaN rows and drop redundant columns"
      ]
    },
    {
      "metadata": {
        "id": "qAPsxDiK5jcc",
        "colab_type": "code",
        "colab": {}
      },
      "cell_type": "code",
      "source": [
        "flightdel.dropna(inplace=True) #Drop NaNs. We will still have enough data\n",
        "flightdel.drop(['Year','Cancelled'],axis=1,inplace=True) #There is only 1 unique value for both (2013 and 0 respectively)\n",
        "flightdel.reset_index(drop=True,inplace=True)"
      ],
      "execution_count": 0,
      "outputs": []
    },
    {
      "metadata": {
        "id": "8iyYURF5E3UP",
        "colab_type": "text"
      },
      "cell_type": "markdown",
      "source": [
        "###Join the 2 CSV files to get airport code details for origin and destination"
      ]
    },
    {
      "metadata": {
        "id": "Uv6LnQBS53Xz",
        "colab_type": "code",
        "colab": {}
      },
      "cell_type": "code",
      "source": [
        "result=pd.merge(flightdel,airpcode,left_on='OriginAirportID',right_on='airport_id',how='left')\n",
        "result.drop(['airport_id'],axis=1,inplace=True)\n",
        "#result.reset_index(drop=True,inplace=True)\n",
        "result.rename(columns={'city':'cityor','state':'stateor','name':'nameor'},inplace=True)\n",
        "result=pd.merge(result,airpcode,left_on='DestAirportID',right_on='airport_id',how='left')\n",
        "result.drop(['airport_id'],axis=1,inplace=True)\n",
        "result.reset_index(drop=True,inplace=True)\n",
        "result.rename(columns={'city':'citydest','state':'statedest','name':'namedest'},inplace=True)\n",
        "flightdelfin=result"
      ],
      "execution_count": 0,
      "outputs": []
    },
    {
      "metadata": {
        "id": "ZPvh54TdFHjn",
        "colab_type": "text"
      },
      "cell_type": "markdown",
      "source": [
        "### Perform Feature Conversion (to categorical dtype)"
      ]
    },
    {
      "metadata": {
        "id": "eTXCLiZiAWwv",
        "colab_type": "code",
        "colab": {}
      },
      "cell_type": "code",
      "source": [
        "cols=['Carrier','DepDel15','ArrDel15','OriginAirportID','DestAirportID','cityor','stateor','nameor','citydest','statedest','namedest']\n",
        "flightdelfin[cols]=flightdelfin[cols].apply(lambda x: x.astype('category'))     "
      ],
      "execution_count": 0,
      "outputs": []
    },
    {
      "metadata": {
        "id": "1CvwhfcEGKwo",
        "colab_type": "text"
      },
      "cell_type": "markdown",
      "source": [
        "###Drop duplicate observations"
      ]
    },
    {
      "metadata": {
        "id": "lfLw2DV5CbGu",
        "colab_type": "code",
        "colab": {}
      },
      "cell_type": "code",
      "source": [
        "flightdelfin.drop_duplicates(keep='first',inplace=True)\n",
        "flightdelfin.reset_index(drop=True,inplace=True)"
      ],
      "execution_count": 0,
      "outputs": []
    },
    {
      "metadata": {
        "id": "myLnfRztGa7u",
        "colab_type": "text"
      },
      "cell_type": "markdown",
      "source": [
        "###Drop columns that are unnecessary for analysis"
      ]
    },
    {
      "metadata": {
        "id": "vdDkqnU77AjH",
        "colab_type": "text"
      },
      "cell_type": "markdown",
      "source": [
        "**In particular, we drop ArrDel15 and DepDel15 columns as they add no extra information from the ArrDel and DepDel columns respectively.**"
      ]
    },
    {
      "metadata": {
        "id": "d6HM-6J51zgU",
        "colab_type": "code",
        "colab": {
          "base_uri": "https://localhost:8080/",
          "height": 199
        },
        "outputId": "e6862c49-debf-4269-c61c-67e430f73d19"
      },
      "cell_type": "code",
      "source": [
        "flightdelan=flightdelfin.iloc[:,0:11]\n",
        "flightdelan.drop('DepDel15',axis=1,inplace=True)\n",
        "flightdelan.head()"
      ],
      "execution_count": 9,
      "outputs": [
        {
          "output_type": "execute_result",
          "data": {
            "text/html": [
              "<div>\n",
              "<style scoped>\n",
              "    .dataframe tbody tr th:only-of-type {\n",
              "        vertical-align: middle;\n",
              "    }\n",
              "\n",
              "    .dataframe tbody tr th {\n",
              "        vertical-align: top;\n",
              "    }\n",
              "\n",
              "    .dataframe thead th {\n",
              "        text-align: right;\n",
              "    }\n",
              "</style>\n",
              "<table border=\"1\" class=\"dataframe\">\n",
              "  <thead>\n",
              "    <tr style=\"text-align: right;\">\n",
              "      <th></th>\n",
              "      <th>Month</th>\n",
              "      <th>DayofMonth</th>\n",
              "      <th>DayOfWeek</th>\n",
              "      <th>Carrier</th>\n",
              "      <th>OriginAirportID</th>\n",
              "      <th>DestAirportID</th>\n",
              "      <th>CRSDepTime</th>\n",
              "      <th>DepDelay</th>\n",
              "      <th>CRSArrTime</th>\n",
              "      <th>ArrDelay</th>\n",
              "    </tr>\n",
              "  </thead>\n",
              "  <tbody>\n",
              "    <tr>\n",
              "      <th>0</th>\n",
              "      <td>4</td>\n",
              "      <td>19</td>\n",
              "      <td>5</td>\n",
              "      <td>DL</td>\n",
              "      <td>11433</td>\n",
              "      <td>13303</td>\n",
              "      <td>837</td>\n",
              "      <td>-3.0</td>\n",
              "      <td>1138</td>\n",
              "      <td>1.0</td>\n",
              "    </tr>\n",
              "    <tr>\n",
              "      <th>1</th>\n",
              "      <td>4</td>\n",
              "      <td>19</td>\n",
              "      <td>5</td>\n",
              "      <td>DL</td>\n",
              "      <td>14869</td>\n",
              "      <td>12478</td>\n",
              "      <td>1705</td>\n",
              "      <td>0.0</td>\n",
              "      <td>2336</td>\n",
              "      <td>-8.0</td>\n",
              "    </tr>\n",
              "    <tr>\n",
              "      <th>2</th>\n",
              "      <td>4</td>\n",
              "      <td>19</td>\n",
              "      <td>5</td>\n",
              "      <td>DL</td>\n",
              "      <td>14057</td>\n",
              "      <td>14869</td>\n",
              "      <td>600</td>\n",
              "      <td>-4.0</td>\n",
              "      <td>851</td>\n",
              "      <td>-15.0</td>\n",
              "    </tr>\n",
              "    <tr>\n",
              "      <th>3</th>\n",
              "      <td>4</td>\n",
              "      <td>19</td>\n",
              "      <td>5</td>\n",
              "      <td>DL</td>\n",
              "      <td>15016</td>\n",
              "      <td>11433</td>\n",
              "      <td>1630</td>\n",
              "      <td>28.0</td>\n",
              "      <td>1903</td>\n",
              "      <td>24.0</td>\n",
              "    </tr>\n",
              "    <tr>\n",
              "      <th>4</th>\n",
              "      <td>4</td>\n",
              "      <td>19</td>\n",
              "      <td>5</td>\n",
              "      <td>DL</td>\n",
              "      <td>11193</td>\n",
              "      <td>12892</td>\n",
              "      <td>1615</td>\n",
              "      <td>-6.0</td>\n",
              "      <td>1805</td>\n",
              "      <td>-11.0</td>\n",
              "    </tr>\n",
              "  </tbody>\n",
              "</table>\n",
              "</div>"
            ],
            "text/plain": [
              "   Month  DayofMonth  DayOfWeek Carrier OriginAirportID DestAirportID  \\\n",
              "0      4          19          5      DL           11433         13303   \n",
              "1      4          19          5      DL           14869         12478   \n",
              "2      4          19          5      DL           14057         14869   \n",
              "3      4          19          5      DL           15016         11433   \n",
              "4      4          19          5      DL           11193         12892   \n",
              "\n",
              "   CRSDepTime  DepDelay  CRSArrTime  ArrDelay  \n",
              "0         837      -3.0        1138       1.0  \n",
              "1        1705       0.0        2336      -8.0  \n",
              "2         600      -4.0         851     -15.0  \n",
              "3        1630      28.0        1903      24.0  \n",
              "4        1615      -6.0        1805     -11.0  "
            ]
          },
          "metadata": {
            "tags": []
          },
          "execution_count": 9
        }
      ]
    },
    {
      "metadata": {
        "id": "-20rzFJZ7USa",
        "colab_type": "text"
      },
      "cell_type": "markdown",
      "source": [
        "###Final check before analysis"
      ]
    },
    {
      "metadata": {
        "id": "JXeyEqFOG9es",
        "colab_type": "text"
      },
      "cell_type": "markdown",
      "source": [
        "** We check if our data types are correct and do a general scan of the dataframe information. It looks good! Everything is as it should be.**"
      ]
    },
    {
      "metadata": {
        "id": "SHrj71Byk0wS",
        "colab_type": "code",
        "colab": {
          "base_uri": "https://localhost:8080/",
          "height": 280
        },
        "outputId": "a0b85d1b-f76d-4240-a3fd-74b92b7f8414"
      },
      "cell_type": "code",
      "source": [
        "flightdelan.info()"
      ],
      "execution_count": 10,
      "outputs": [
        {
          "output_type": "stream",
          "text": [
            "<class 'pandas.core.frame.DataFrame'>\n",
            "RangeIndex: 2690385 entries, 0 to 2690384\n",
            "Data columns (total 10 columns):\n",
            "Month              int64\n",
            "DayofMonth         int64\n",
            "DayOfWeek          int64\n",
            "Carrier            category\n",
            "OriginAirportID    category\n",
            "DestAirportID      category\n",
            "CRSDepTime         int64\n",
            "DepDelay           float64\n",
            "CRSArrTime         int64\n",
            "ArrDelay           float64\n",
            "dtypes: category(3), float64(2), int64(5)\n",
            "memory usage: 151.4 MB\n"
          ],
          "name": "stdout"
        }
      ]
    },
    {
      "metadata": {
        "id": "64wLyS_wwEwt",
        "colab_type": "code",
        "colab": {}
      },
      "cell_type": "code",
      "source": [
        "#flightdelan[['Month','DayofMonth','DayOfWeek']]=flightdelan[['Month','DayofMonth','DayOfWeek']].apply(lambda x: x.astype(np.int64))"
      ],
      "execution_count": 0,
      "outputs": []
    },
    {
      "metadata": {
        "id": "iKAPnviGKE24",
        "colab_type": "text"
      },
      "cell_type": "markdown",
      "source": [
        "## Prediction"
      ]
    },
    {
      "metadata": {
        "id": "SQQmg_vPNBu-",
        "colab_type": "text"
      },
      "cell_type": "markdown",
      "source": [
        "### Convert Categorical Variables to Indicator Variables"
      ]
    },
    {
      "metadata": {
        "id": "y3Lg5yDoMpMP",
        "colab_type": "text"
      },
      "cell_type": "markdown",
      "source": [
        "**To do any sort of prediction, we need to convert the categorical variables to dummy (indicator) variables and drop one group in for each categorical column in the original table, so as to get a baseline to compare to. If we do not drop one group from each categorical variable, our regression will fail due to multicollinearity.**\n",
        "\n",
        "**The choice of which group(s) to drop is complete arbitrary but in our case, we will drop the carrier with the least number of flights i.e. Hawaiian Airlines (HA), and we will choose an arbitrary city pair with just 1 flight frequency to drop. As of now I have chosen the OriginAirportID as 14771\tand the DestAirportID as 13871 to be dropped.**\n"
      ]
    },
    {
      "metadata": {
        "id": "V5QH9sG0LPqP",
        "colab_type": "code",
        "colab": {
          "base_uri": "https://localhost:8080/",
          "height": 248
        },
        "outputId": "a614d413-e9dd-4c6c-907b-c1d43fb92f42"
      },
      "cell_type": "code",
      "source": [
        "flightdeldum=pd.get_dummies(flightdelan)\n",
        "flightdeldum.drop(['Carrier_HA','OriginAirportID_14771','DestAirportID_13871'],axis=1,inplace=True)\n",
        "flightdeldum.head()"
      ],
      "execution_count": 11,
      "outputs": [
        {
          "output_type": "execute_result",
          "data": {
            "text/html": [
              "<div>\n",
              "<style scoped>\n",
              "    .dataframe tbody tr th:only-of-type {\n",
              "        vertical-align: middle;\n",
              "    }\n",
              "\n",
              "    .dataframe tbody tr th {\n",
              "        vertical-align: top;\n",
              "    }\n",
              "\n",
              "    .dataframe thead th {\n",
              "        text-align: right;\n",
              "    }\n",
              "</style>\n",
              "<table border=\"1\" class=\"dataframe\">\n",
              "  <thead>\n",
              "    <tr style=\"text-align: right;\">\n",
              "      <th></th>\n",
              "      <th>Month</th>\n",
              "      <th>DayofMonth</th>\n",
              "      <th>DayOfWeek</th>\n",
              "      <th>CRSDepTime</th>\n",
              "      <th>DepDelay</th>\n",
              "      <th>CRSArrTime</th>\n",
              "      <th>ArrDelay</th>\n",
              "      <th>Carrier_9E</th>\n",
              "      <th>Carrier_AA</th>\n",
              "      <th>Carrier_AS</th>\n",
              "      <th>...</th>\n",
              "      <th>DestAirportID_14747</th>\n",
              "      <th>DestAirportID_14771</th>\n",
              "      <th>DestAirportID_14831</th>\n",
              "      <th>DestAirportID_14843</th>\n",
              "      <th>DestAirportID_14869</th>\n",
              "      <th>DestAirportID_14893</th>\n",
              "      <th>DestAirportID_14908</th>\n",
              "      <th>DestAirportID_15016</th>\n",
              "      <th>DestAirportID_15304</th>\n",
              "      <th>DestAirportID_15376</th>\n",
              "    </tr>\n",
              "  </thead>\n",
              "  <tbody>\n",
              "    <tr>\n",
              "      <th>0</th>\n",
              "      <td>4</td>\n",
              "      <td>19</td>\n",
              "      <td>5</td>\n",
              "      <td>837</td>\n",
              "      <td>-3.0</td>\n",
              "      <td>1138</td>\n",
              "      <td>1.0</td>\n",
              "      <td>0</td>\n",
              "      <td>0</td>\n",
              "      <td>0</td>\n",
              "      <td>...</td>\n",
              "      <td>0</td>\n",
              "      <td>0</td>\n",
              "      <td>0</td>\n",
              "      <td>0</td>\n",
              "      <td>0</td>\n",
              "      <td>0</td>\n",
              "      <td>0</td>\n",
              "      <td>0</td>\n",
              "      <td>0</td>\n",
              "      <td>0</td>\n",
              "    </tr>\n",
              "    <tr>\n",
              "      <th>1</th>\n",
              "      <td>4</td>\n",
              "      <td>19</td>\n",
              "      <td>5</td>\n",
              "      <td>1705</td>\n",
              "      <td>0.0</td>\n",
              "      <td>2336</td>\n",
              "      <td>-8.0</td>\n",
              "      <td>0</td>\n",
              "      <td>0</td>\n",
              "      <td>0</td>\n",
              "      <td>...</td>\n",
              "      <td>0</td>\n",
              "      <td>0</td>\n",
              "      <td>0</td>\n",
              "      <td>0</td>\n",
              "      <td>0</td>\n",
              "      <td>0</td>\n",
              "      <td>0</td>\n",
              "      <td>0</td>\n",
              "      <td>0</td>\n",
              "      <td>0</td>\n",
              "    </tr>\n",
              "    <tr>\n",
              "      <th>2</th>\n",
              "      <td>4</td>\n",
              "      <td>19</td>\n",
              "      <td>5</td>\n",
              "      <td>600</td>\n",
              "      <td>-4.0</td>\n",
              "      <td>851</td>\n",
              "      <td>-15.0</td>\n",
              "      <td>0</td>\n",
              "      <td>0</td>\n",
              "      <td>0</td>\n",
              "      <td>...</td>\n",
              "      <td>0</td>\n",
              "      <td>0</td>\n",
              "      <td>0</td>\n",
              "      <td>0</td>\n",
              "      <td>1</td>\n",
              "      <td>0</td>\n",
              "      <td>0</td>\n",
              "      <td>0</td>\n",
              "      <td>0</td>\n",
              "      <td>0</td>\n",
              "    </tr>\n",
              "    <tr>\n",
              "      <th>3</th>\n",
              "      <td>4</td>\n",
              "      <td>19</td>\n",
              "      <td>5</td>\n",
              "      <td>1630</td>\n",
              "      <td>28.0</td>\n",
              "      <td>1903</td>\n",
              "      <td>24.0</td>\n",
              "      <td>0</td>\n",
              "      <td>0</td>\n",
              "      <td>0</td>\n",
              "      <td>...</td>\n",
              "      <td>0</td>\n",
              "      <td>0</td>\n",
              "      <td>0</td>\n",
              "      <td>0</td>\n",
              "      <td>0</td>\n",
              "      <td>0</td>\n",
              "      <td>0</td>\n",
              "      <td>0</td>\n",
              "      <td>0</td>\n",
              "      <td>0</td>\n",
              "    </tr>\n",
              "    <tr>\n",
              "      <th>4</th>\n",
              "      <td>4</td>\n",
              "      <td>19</td>\n",
              "      <td>5</td>\n",
              "      <td>1615</td>\n",
              "      <td>-6.0</td>\n",
              "      <td>1805</td>\n",
              "      <td>-11.0</td>\n",
              "      <td>0</td>\n",
              "      <td>0</td>\n",
              "      <td>0</td>\n",
              "      <td>...</td>\n",
              "      <td>0</td>\n",
              "      <td>0</td>\n",
              "      <td>0</td>\n",
              "      <td>0</td>\n",
              "      <td>0</td>\n",
              "      <td>0</td>\n",
              "      <td>0</td>\n",
              "      <td>0</td>\n",
              "      <td>0</td>\n",
              "      <td>0</td>\n",
              "    </tr>\n",
              "  </tbody>\n",
              "</table>\n",
              "<p>5 rows × 160 columns</p>\n",
              "</div>"
            ],
            "text/plain": [
              "   Month  DayofMonth  DayOfWeek  CRSDepTime  DepDelay  CRSArrTime  ArrDelay  \\\n",
              "0      4          19          5         837      -3.0        1138       1.0   \n",
              "1      4          19          5        1705       0.0        2336      -8.0   \n",
              "2      4          19          5         600      -4.0         851     -15.0   \n",
              "3      4          19          5        1630      28.0        1903      24.0   \n",
              "4      4          19          5        1615      -6.0        1805     -11.0   \n",
              "\n",
              "   Carrier_9E  Carrier_AA  Carrier_AS         ...           \\\n",
              "0           0           0           0         ...            \n",
              "1           0           0           0         ...            \n",
              "2           0           0           0         ...            \n",
              "3           0           0           0         ...            \n",
              "4           0           0           0         ...            \n",
              "\n",
              "   DestAirportID_14747  DestAirportID_14771  DestAirportID_14831  \\\n",
              "0                    0                    0                    0   \n",
              "1                    0                    0                    0   \n",
              "2                    0                    0                    0   \n",
              "3                    0                    0                    0   \n",
              "4                    0                    0                    0   \n",
              "\n",
              "   DestAirportID_14843  DestAirportID_14869  DestAirportID_14893  \\\n",
              "0                    0                    0                    0   \n",
              "1                    0                    0                    0   \n",
              "2                    0                    1                    0   \n",
              "3                    0                    0                    0   \n",
              "4                    0                    0                    0   \n",
              "\n",
              "   DestAirportID_14908  DestAirportID_15016  DestAirportID_15304  \\\n",
              "0                    0                    0                    0   \n",
              "1                    0                    0                    0   \n",
              "2                    0                    0                    0   \n",
              "3                    0                    0                    0   \n",
              "4                    0                    0                    0   \n",
              "\n",
              "   DestAirportID_15376  \n",
              "0                    0  \n",
              "1                    0  \n",
              "2                    0  \n",
              "3                    0  \n",
              "4                    0  \n",
              "\n",
              "[5 rows x 160 columns]"
            ]
          },
          "metadata": {
            "tags": []
          },
          "execution_count": 11
        }
      ]
    },
    {
      "metadata": {
        "id": "R6D8oxCQNriC",
        "colab_type": "text"
      },
      "cell_type": "markdown",
      "source": [
        "**As one can see above, each cateogrical column has been converted to 'n' binary columns where n was the number of groups in that particular categorical column.  For example, the carrier column has been split into 16  indicator columns (number of unique carriers) and one has been dropped ('Carrier_HA').**\n",
        "\n",
        "**Similar logic can be applied to the DestAirportID and OriginAirportID categorical columns.**\n",
        "\n",
        "**NOTE: The Month, DayofMonth and DayofWeek columns have not been converted to indicator variables because they are ORDINAL cateogorical variables and not nominal. There is a need to retain their ordering because the 2nd month comes after the 1st and so on. Hence, since their current form retains their natural ordering, we do not need to touch these columns.**"
      ]
    },
    {
      "metadata": {
        "id": "x3OqPvSxOY9W",
        "colab_type": "text"
      },
      "cell_type": "markdown",
      "source": [
        "### Decision Tree Regression"
      ]
    },
    {
      "metadata": {
        "id": "uiltsD6uOfuv",
        "colab_type": "text"
      },
      "cell_type": "markdown",
      "source": [
        "**To predict the arrival delays for various combinations of the input variables and future unseen data, we need to perform a regression since the output variable (ArrDelay) is a continuous one.**\n",
        "\n",
        "**Decision trees are an alternative algorithm for prediction (both classification and regression). SGD regression, is after all, a form of multiple linear regression, which assumes linearity between features, whereas decision trees do not assume linearity between features. Hence, it is a good idea to run a decision tree regressor on our data set to see if we get any imporvement.**"
      ]
    },
    {
      "metadata": {
        "id": "47ZD7cWQs_t_",
        "colab_type": "code",
        "colab": {}
      },
      "cell_type": "code",
      "source": [
        "scaler = preprocessing.StandardScaler()\n",
        "flightdeldum[['CRSDepTime','CRSArrTime','DepDelay']]=scaler.fit_transform(flightdeldum[['CRSDepTime','CRSArrTime','DepDelay']])\n",
        "y=flightdeldum.ArrDelay\n",
        "X=flightdeldum.drop('ArrDelay',axis=1)"
      ],
      "execution_count": 0,
      "outputs": []
    },
    {
      "metadata": {
        "id": "iNeMDAgDQDyQ",
        "colab_type": "text"
      },
      "cell_type": "markdown",
      "source": [
        "**In the cell above, we have scaled the relevant columns (Z score) that had values that were dissimilar to the rest of the features, as the regularization strategy we are going to use, requires features to be in a similar range.**\n",
        "\n",
        "**We now split the data into training and testing data and in this case, we are going to use 80% of the data for training and the remaining for testing.**"
      ]
    },
    {
      "metadata": {
        "id": "wWPrTWHR0X6X",
        "colab_type": "code",
        "colab": {}
      },
      "cell_type": "code",
      "source": [
        "X_train, X_test, y_train, y_test = train_test_split(X, y, test_size=0.2, random_state=123)"
      ],
      "execution_count": 0,
      "outputs": []
    },
    {
      "metadata": {
        "id": "oEsRj6ZkRMik",
        "colab_type": "text"
      },
      "cell_type": "markdown",
      "source": [
        "**We use the min_samples_split parameter in the sklearn decision tree package, as a stopping criteria. **"
      ]
    },
    {
      "metadata": {
        "id": "rzuFoC9j1kVN",
        "colab_type": "code",
        "colab": {
          "base_uri": "https://localhost:8080/",
          "height": 105
        },
        "outputId": "89a2dc58-e00e-462d-ea8a-a0f18a1a2f8f"
      },
      "cell_type": "code",
      "source": [
        "# Fit regression model\n",
        "regr_1 = DecisionTreeRegressor(min_samples_split=100)\n",
        "regr_1.fit(X_train,y_train)"
      ],
      "execution_count": 14,
      "outputs": [
        {
          "output_type": "execute_result",
          "data": {
            "text/plain": [
              "DecisionTreeRegressor(criterion='mse', max_depth=None, max_features=None,\n",
              "           max_leaf_nodes=None, min_impurity_decrease=0.0,\n",
              "           min_impurity_split=None, min_samples_leaf=1,\n",
              "           min_samples_split=100, min_weight_fraction_leaf=0.0,\n",
              "           presort=False, random_state=None, splitter='best')"
            ]
          },
          "metadata": {
            "tags": []
          },
          "execution_count": 14
        }
      ]
    },
    {
      "metadata": {
        "id": "ry1VfkhZR1IY",
        "colab_type": "text"
      },
      "cell_type": "markdown",
      "source": [
        "**In the above cell, we trained the model using the DecisionTreeRegressor and now it is time to predict using the test data.**"
      ]
    },
    {
      "metadata": {
        "id": "SsHPQ4yF3yQd",
        "colab_type": "code",
        "colab": {}
      },
      "cell_type": "code",
      "source": [
        "y_pred=regr_1.predict(X_test)"
      ],
      "execution_count": 0,
      "outputs": []
    },
    {
      "metadata": {
        "id": "fhgB9xmq5ItY",
        "colab_type": "code",
        "colab": {
          "base_uri": "https://localhost:8080/",
          "height": 52
        },
        "outputId": "d669ec00-58d2-4a82-b119-ca85f302e624"
      },
      "cell_type": "code",
      "source": [
        "# The coefficients\n",
        "#print('Coefficients: \\n', reg.coef_)\n",
        "# The mean squared error\n",
        "print(\"Mean squared error: %.2f\"\n",
        "      % mean_squared_error(y_test.values, y_pred))\n",
        "# Explained variance score: 1 is perfect prediction\n",
        "print('Variance score: %.2f' % r2_score(y_test.values, y_pred))"
      ],
      "execution_count": 16,
      "outputs": [
        {
          "output_type": "stream",
          "text": [
            "Mean squared error: 184.26\n",
            "Variance score: 0.88\n"
          ],
          "name": "stdout"
        }
      ]
    },
    {
      "metadata": {
        "id": "aiV1QRvD4R6d",
        "colab_type": "code",
        "colab": {
          "base_uri": "https://localhost:8080/",
          "height": 361
        },
        "outputId": "221eb4a4-ce9c-48fd-febe-a0fc4d462a67"
      },
      "cell_type": "code",
      "source": [
        "plt.scatter(y_test.values, y_pred)\n",
        "plt.xlabel(\"True Values\")\n",
        "plt.ylabel(\"Predictions\")\n",
        "plt.show()"
      ],
      "execution_count": 17,
      "outputs": [
        {
          "output_type": "display_data",
          "data": {
            "image/png": "[encoded data removed]",
            "text/plain": [
              "<matplotlib.figure.Figure at 0x7efde0d8a710>"
            ]
          },
          "metadata": {
            "tags": []
          }
        }
      ]
    },
    {
      "metadata": {
        "id": "KvftEmqfSQP9",
        "colab_type": "text"
      },
      "cell_type": "markdown",
      "source": [
        "**As we can see from the above cells, 88% of the variance (R^2 score) in the data has been captured and the model is predicting well. The trend line in the graph would be very close to the ideal 45 degree trend line (expected line if the model predicted with 100% accuracy).**\n",
        "\n",
        "**However, we do not want to overfit our model because we want it to perform well on new untested data. To check if our model overfits, we can run a 6 fold cross validation and analyze the variance (R^2 scores) on each fold ,as shown below.**"
      ]
    },
    {
      "metadata": {
        "id": "xTJI5mKZ8ByE",
        "colab_type": "code",
        "colab": {
          "base_uri": "https://localhost:8080/",
          "height": 52
        },
        "outputId": "69b3c588-2704-4db9-8248-4cde5482371a"
      },
      "cell_type": "code",
      "source": [
        "# Perform 6-fold cross validation\n",
        "kfold = KFold(n_splits=6)\n",
        "scores = cross_val_score(regr_1, X, y, cv=kfold)\n",
        "print 'Cross-validated scores:', scores\n",
        "print 'Average Cross-validated score:', np.mean(scores)"
      ],
      "execution_count": 20,
      "outputs": [
        {
          "output_type": "stream",
          "text": [
            "Cross-validated scores: [0.86577284 0.86731056 0.88698003 0.86351271 0.85092398 0.8072933 ]\n",
            "Average Cross-validated score: 0.8569655697586188\n"
          ],
          "name": "stdout"
        }
      ]
    },
    {
      "metadata": {
        "id": "HY2-ntljMUAX",
        "colab_type": "text"
      },
      "cell_type": "markdown",
      "source": [
        "###Grid Search (Hyperparameter Tuning) (Optional and Computationally Expensive)"
      ]
    },
    {
      "metadata": {
        "id": "2isnB9odM8FY",
        "colab_type": "text"
      },
      "cell_type": "markdown",
      "source": [
        "**The following function performs a search over the entire parameter grid (as specified below) for the minimum number of samples to split (minimum number of observations required for node to be split), and returns the optimal parameters, after an n fold cross validation.**"
      ]
    },
    {
      "metadata": {
        "id": "Rs_QCcgUcBZv",
        "colab_type": "code",
        "colab": {}
      },
      "cell_type": "code",
      "source": [
        "#https://medium.com/@aneesha/svm-parameter-tuning-in-scikit-learn-using-gridsearchcv-2413c02125a0\n",
        "def dectree_param_selection(X, y, nfolds):\n",
        "    min_samples_splits = [60,80,100]\n",
        "    param_grid = {'min_samples_split': min_samples_splits}\n",
        "    grid_search = GridSearchCV(DecisionTreeRegressor(), param_grid, cv=nfolds)\n",
        "    grid_search.fit(X, y)\n",
        "    grid_search.best_params_\n",
        "    return grid_search.best_params_"
      ],
      "execution_count": 0,
      "outputs": []
    },
    {
      "metadata": {
        "id": "3Z-4CJDXDOL1",
        "colab_type": "code",
        "colab": {
          "base_uri": "https://localhost:8080/",
          "height": 34
        },
        "outputId": "b55bd09f-9792-4318-b928-96431958fca3"
      },
      "cell_type": "code",
      "source": [
        "dectree_param_selection(X_train,y_train,5)"
      ],
      "execution_count": 23,
      "outputs": [
        {
          "output_type": "execute_result",
          "data": {
            "text/plain": [
              "{'min_samples_split': 100}"
            ]
          },
          "metadata": {
            "tags": []
          },
          "execution_count": 23
        }
      ]
    },
    {
      "metadata": {
        "id": "3xCEr0AdWU3o",
        "colab_type": "text"
      },
      "cell_type": "markdown",
      "source": [
        "**As we can see above, the grid search has yielded the optimal parameters for the min_samples_split parameter. This process took about 40 minutes to execute as it is very computationally expensive.**\n",
        "\n",
        "**Since, we received the same parameter as our initial estimate, we can conclude our decision tree regressor here.**"
      ]
    },
    {
      "metadata": {
        "id": "vM3g7xdhR_jo",
        "colab_type": "text"
      },
      "cell_type": "markdown",
      "source": [
        "##Comparison"
      ]
    },
    {
      "metadata": {
        "id": "u7YnEHCbSKBG",
        "colab_type": "text"
      },
      "cell_type": "markdown",
      "source": [
        "**We have seen that, after running a 6 fold cross validation (to eliminate overfitting), we have the following results for each of the predictors:**\n",
        "\n",
        "**1) SGD Regression (with gridsearch parameters) : MSE  = ~164, R^2=~89%**\n",
        "\n",
        "**2) Decision Tree Regression: MSE= ~184, R^2=~86%**\n",
        "\n",
        "\n",
        "**Since both results involve at least a 5 fold cross validation, we can be assured that the models are not overfit. Hence, given the above figures, we can clearly see that the Stochastic Gradient Descent Regression is a better algorithm for this problem.**"
      ]
    },
    {
      "metadata": {
        "id": "mee-roZ4TvE5",
        "colab_type": "text"
      },
      "cell_type": "markdown",
      "source": [
        "**FINAL CHOICE: Stochastic Gradient Descent Regression.**"
      ]
    }
  ]
}